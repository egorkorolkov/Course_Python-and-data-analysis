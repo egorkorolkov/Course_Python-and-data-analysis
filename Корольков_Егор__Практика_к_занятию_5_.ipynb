{
  "nbformat": 4,
  "nbformat_minor": 0,
  "metadata": {
    "kernelspec": {
      "display_name": "Python 3",
      "language": "python",
      "name": "python3"
    },
    "language_info": {
      "codemirror_mode": {
        "name": "ipython",
        "version": 3
      },
      "file_extension": ".py",
      "mimetype": "text/x-python",
      "name": "python",
      "nbconvert_exporter": "python",
      "pygments_lexer": "ipython3",
      "version": "3.8.7"
    },
    "colab": {
      "provenance": [],
      "collapsed_sections": [
        "zk2fbpIkXy3h"
      ]
    }
  },
  "cells": [
    {
      "cell_type": "markdown",
      "metadata": {
        "id": "KaEoPM0PXy3W"
      },
      "source": [
        "### Полезные ссылки по Numpy:\n",
        "\n",
        "- быстрый старт в Numpy: https://numpy.org/doc/stable/user/quickstart.html\n",
        "- руководство для совсем начинающих изучать Numpy: https://numpy.org/doc/stable/user/absolute_beginners.html\n",
        "- документация с примерами по основным методам Numpy: https://numpy.org/doc/stable/user/basics.html\n",
        "- Справочник методов Numpy: https://www.w3resource.com/python-exercises/numpy/index.php"
      ]
    },
    {
      "cell_type": "markdown",
      "metadata": {
        "id": "RrLTg94RXy3X"
      },
      "source": [
        "# Numpy"
      ]
    },
    {
      "cell_type": "markdown",
      "metadata": {
        "id": "wbA9ooKfXy3X"
      },
      "source": [
        "### В этом разделе запрещается пользоваться циклами! Только методы numpy.\n",
        "\n",
        "### Каждая задача в этом разделе решается одной-двумя строками кода. Нужно просто подумать или найти подходящий метод в numpy"
      ]
    },
    {
      "cell_type": "code",
      "metadata": {
        "id": "zljkZCKYXy3Y"
      },
      "source": [
        "import numpy as np"
      ],
      "execution_count": null,
      "outputs": []
    },
    {
      "cell_type": "markdown",
      "metadata": {
        "id": "4pW30ELYXy3Z"
      },
      "source": [
        "## Задача 1\n",
        "\n",
        "Создайте одномерный массив чисел от 0 до 8.\n",
        "\n",
        "Сделайте это двумя способами: с помощью метода `arange` из numpy и с помощью преобразования списка (list) в numpy array"
      ]
    },
    {
      "cell_type": "code",
      "metadata": {
        "id": "9yP0C45YXy3Z",
        "colab": {
          "base_uri": "https://localhost:8080/"
        },
        "outputId": "a4496c19-299e-48c0-98c8-57ca34243292"
      },
      "source": [
        "a = np.array([0, 1, 2, 3, 4, 5, 6, 7, 8])\n",
        "a"
      ],
      "execution_count": null,
      "outputs": [
        {
          "output_type": "execute_result",
          "data": {
            "text/plain": [
              "array([0, 1, 2, 3, 4, 5, 6, 7, 8])"
            ]
          },
          "metadata": {
            "tags": []
          },
          "execution_count": 3
        }
      ]
    },
    {
      "cell_type": "code",
      "metadata": {
        "id": "RSddgl9pXqjp",
        "colab": {
          "base_uri": "https://localhost:8080/"
        },
        "outputId": "dbe30a23-9a96-4786-e71d-5e44d96dbaea"
      },
      "source": [
        "c = np.arange(0, 9)\n",
        "c"
      ],
      "execution_count": null,
      "outputs": [
        {
          "output_type": "execute_result",
          "data": {
            "text/plain": [
              "array([0, 1, 2, 3, 4, 5, 6, 7, 8])"
            ]
          },
          "metadata": {
            "tags": []
          },
          "execution_count": 4
        }
      ]
    },
    {
      "cell_type": "markdown",
      "metadata": {
        "id": "ns8SlkFyXy3a"
      },
      "source": [
        "## Задача 2\n",
        "\n",
        "Создайте массив numpy размером 3×3 со всеми значениями, равными True (подсказка: создайте массив из единиц и приведите тип массива к bool)"
      ]
    },
    {
      "cell_type": "code",
      "metadata": {
        "id": "SEpr7fNhXy3a",
        "colab": {
          "base_uri": "https://localhost:8080/"
        },
        "outputId": "11ca0a57-71c9-493a-f5cc-9506abd0861e"
      },
      "source": [
        "arr = (np.ones((3, 3))).astype('bool')\n",
        "arr"
      ],
      "execution_count": null,
      "outputs": [
        {
          "output_type": "execute_result",
          "data": {
            "text/plain": [
              "array([[ True,  True,  True],\n",
              "       [ True,  True,  True],\n",
              "       [ True,  True,  True]])"
            ]
          },
          "metadata": {
            "tags": []
          },
          "execution_count": 21
        }
      ]
    },
    {
      "cell_type": "markdown",
      "metadata": {
        "id": "1d4vFBzRXy3b"
      },
      "source": [
        "## Задача 3\n",
        "\n",
        "Вам дан numpy array под названием ```test_array```. Выведите положительные элементы этого массива\n",
        "\n",
        "*Подсказка:* здесь можно также использовать булевы массивы в качестве булевой маски, как в Pandas. Иначе говоря, фильтрация по условию работает с очень похожим синтаксисом, как в Pandas."
      ]
    },
    {
      "cell_type": "code",
      "metadata": {
        "id": "VH61lY4jXy3b"
      },
      "source": [
        "test_array = np.array([ 0, -1,  5, -3,  7, -1,  6, -1,  8, -1])"
      ],
      "execution_count": null,
      "outputs": []
    },
    {
      "cell_type": "code",
      "metadata": {
        "id": "gbVnapX0Xy3b",
        "colab": {
          "base_uri": "https://localhost:8080/"
        },
        "outputId": "4ba472e4-e3be-4632-8c42-7e633909d626"
      },
      "source": [
        "test_array[test_array > 0]"
      ],
      "execution_count": null,
      "outputs": [
        {
          "output_type": "execute_result",
          "data": {
            "text/plain": [
              "array([5, 7, 6, 8])"
            ]
          },
          "metadata": {
            "tags": []
          },
          "execution_count": 23
        }
      ]
    },
    {
      "cell_type": "markdown",
      "metadata": {
        "id": "6mX1p74CXy3c"
      },
      "source": [
        "## Задача 4\n",
        "\n",
        "Замените отрицательные элементы из массива ```test_array``` на 0. Подсказка: вам пригодится функция ```np.where```"
      ]
    },
    {
      "cell_type": "code",
      "metadata": {
        "id": "awP9wvhOXy3c",
        "colab": {
          "base_uri": "https://localhost:8080/"
        },
        "outputId": "f607d5e7-8671-4ac4-f83c-50eac92b349d"
      },
      "source": [
        "np.where(test_array < 0, 0, test_array)"
      ],
      "execution_count": null,
      "outputs": [
        {
          "output_type": "execute_result",
          "data": {
            "text/plain": [
              "array([0, 0, 5, 0, 7, 0, 6, 0, 8, 0])"
            ]
          },
          "metadata": {
            "tags": []
          },
          "execution_count": 24
        }
      ]
    },
    {
      "cell_type": "markdown",
      "metadata": {
        "id": "MIqnug_bXy3c"
      },
      "source": [
        "## Задача 5\n",
        "\n",
        "Вам дан массив из 10 чисел. С помощью одной функции в numpy найдите позицию максимального элемента в заданном массиве"
      ]
    },
    {
      "cell_type": "code",
      "metadata": {
        "id": "sjQWGZ5tXy3d"
      },
      "source": [
        "array = np.array([6, 8, 4, 2, 11, -3, 7, 22, -20, -30])"
      ],
      "execution_count": null,
      "outputs": []
    },
    {
      "cell_type": "code",
      "metadata": {
        "id": "xD8erENBXy3d",
        "colab": {
          "base_uri": "https://localhost:8080/"
        },
        "outputId": "9d66fac1-89dd-4fd1-8c85-69a4b76d0767"
      },
      "source": [
        "np.argmax(array)"
      ],
      "execution_count": null,
      "outputs": [
        {
          "output_type": "execute_result",
          "data": {
            "text/plain": [
              "7"
            ]
          },
          "metadata": {
            "tags": []
          },
          "execution_count": 27
        }
      ]
    },
    {
      "cell_type": "markdown",
      "metadata": {
        "id": "spWminyiXy3d"
      },
      "source": [
        "## Задача 6\n",
        "\n",
        "Вам дан словарь, в котором подсчитаны частоты женских имен в выборке из 20 новорожденных девочек."
      ]
    },
    {
      "cell_type": "code",
      "metadata": {
        "id": "x1FcthKzXy3e",
        "colab": {
          "base_uri": "https://localhost:8080/"
        },
        "outputId": "de64ec4a-afe5-4ec6-a49f-bad1df2e5d97"
      },
      "source": [
        "names = dict()\n",
        "names['Катя'] = 8\n",
        "names[\"Maша\"] = 5\n",
        "names[\"Вероника\"] = 2\n",
        "names[\"Ярослава\"] = 1\n",
        "names[\"Александра\"] = 10\n",
        "\n",
        "names"
      ],
      "execution_count": null,
      "outputs": [
        {
          "output_type": "execute_result",
          "data": {
            "text/plain": [
              "{'Maша': 5, 'Александра': 10, 'Вероника': 2, 'Катя': 8, 'Ярослава': 1}"
            ]
          },
          "metadata": {
            "tags": []
          },
          "execution_count": 28
        }
      ]
    },
    {
      "cell_type": "markdown",
      "metadata": {
        "id": "CXetA03XXy3e"
      },
      "source": [
        "Посчитайте процентные доли имен, с помощью нормирования ветора значений.\n",
        "\n",
        "*Подсказка:* просто возьмите этот вектор значений и поделите его на сумму элементов в нем"
      ]
    },
    {
      "cell_type": "code",
      "metadata": {
        "id": "V_jE6SeaXy3f",
        "colab": {
          "base_uri": "https://localhost:8080/"
        },
        "outputId": "a259a630-73cf-4208-df74-c1a153986933"
      },
      "source": [
        "names_count = np.array(list(names.values()))\n",
        "names_count"
      ],
      "execution_count": null,
      "outputs": [
        {
          "output_type": "execute_result",
          "data": {
            "text/plain": [
              "array([ 8,  5,  2,  1, 10])"
            ]
          },
          "metadata": {
            "tags": []
          },
          "execution_count": 29
        }
      ]
    },
    {
      "cell_type": "code",
      "metadata": {
        "id": "M79nffJVXy3f",
        "colab": {
          "base_uri": "https://localhost:8080/"
        },
        "outputId": "63dc73a2-57f9-4185-da96-507b863d6632"
      },
      "source": [
        "names_count = names_count / np.sum(names_count)\n",
        "names_count"
      ],
      "execution_count": null,
      "outputs": [
        {
          "output_type": "execute_result",
          "data": {
            "text/plain": [
              "array([0.30769231, 0.19230769, 0.07692308, 0.03846154, 0.38461538])"
            ]
          },
          "metadata": {
            "tags": []
          },
          "execution_count": 32
        }
      ]
    },
    {
      "cell_type": "markdown",
      "metadata": {
        "id": "q9xFaYhrXy3f"
      },
      "source": [
        "Примечание: мы только что произвели операцию **нормирования вектора** (теперь его элементы суммируются в 1), а получившиеся элементы можно интерпретировать как **вероятности** (в примере выше это веростности того, что случайно взятая новорожденная девочка будет иметь какое-то конкретное имя)"
      ]
    },
    {
      "cell_type": "markdown",
      "metadata": {
        "id": "15ng8uLSXy3g"
      },
      "source": [
        "## Задача 7\n",
        "\n",
        "Вам дан массив ```arr```. Выведите все его элементы, которые строго больше 5, и строго меньше 9\n",
        "\n",
        "*Подсказка:* здесь можно также использовать булевы массивы в качестве булевой маски, как в Pandas. Иначе говоря, фильтрация по условию работает с очень похожим синтаксисом, как в Pandas."
      ]
    },
    {
      "cell_type": "code",
      "metadata": {
        "id": "vqmEaKZuXy3g"
      },
      "source": [
        "arr = np.array([7,2,10,2,7,4,9,4,9,8])"
      ],
      "execution_count": null,
      "outputs": []
    },
    {
      "cell_type": "code",
      "metadata": {
        "id": "78qJl67tXy3g"
      },
      "source": [],
      "execution_count": null,
      "outputs": []
    },
    {
      "cell_type": "markdown",
      "metadata": {
        "id": "zk2fbpIkXy3h"
      },
      "source": [
        "### Работа с двумерными массивами"
      ]
    },
    {
      "cell_type": "markdown",
      "metadata": {
        "id": "fN5ZnOMjXy3h"
      },
      "source": [
        "## Задача 8\n",
        "\n",
        "Создайте методом из numpy одномерный массив из 12 элементов от 0 до 11 и сделайте из него матрицу размером 3х4 (вам пригодится функция ```np.reshape```)"
      ]
    },
    {
      "cell_type": "code",
      "metadata": {
        "id": "naHaxgwwXy3h",
        "colab": {
          "base_uri": "https://localhost:8080/"
        },
        "outputId": "8b7ba7d8-957a-4499-ea49-2fbf03f67579"
      },
      "source": [
        "m = np.arange(12)\n",
        "a = m.reshape(3, 4)\n",
        "a"
      ],
      "execution_count": null,
      "outputs": [
        {
          "output_type": "execute_result",
          "data": {
            "text/plain": [
              "array([[ 0,  1,  2,  3],\n",
              "       [ 4,  5,  6,  7],\n",
              "       [ 8,  9, 10, 11]])"
            ]
          },
          "metadata": {
            "tags": []
          },
          "execution_count": 44
        }
      ]
    },
    {
      "cell_type": "markdown",
      "metadata": {
        "id": "PmVPHNT9Xy3h"
      },
      "source": [
        "## Задача 9\n",
        "\n",
        "Соедините вертикально две созданные матрицы 2x4"
      ]
    },
    {
      "cell_type": "code",
      "metadata": {
        "id": "s6cvlL7GXy3i"
      },
      "source": [
        "a = np.arange(8).reshape(2,4)\n",
        "b = np.ones(8).reshape(2,4)"
      ],
      "execution_count": null,
      "outputs": []
    },
    {
      "cell_type": "code",
      "metadata": {
        "id": "18E0Vz6UXy3i",
        "colab": {
          "base_uri": "https://localhost:8080/"
        },
        "outputId": "fdff6d4e-457f-422e-fdbd-7eba3f7a0bda"
      },
      "source": [
        "np.vstack([a, b])"
      ],
      "execution_count": null,
      "outputs": [
        {
          "output_type": "execute_result",
          "data": {
            "text/plain": [
              "array([[0., 1., 2., 3.],\n",
              "       [4., 5., 6., 7.],\n",
              "       [1., 1., 1., 1.],\n",
              "       [1., 1., 1., 1.]])"
            ]
          },
          "metadata": {
            "tags": []
          },
          "execution_count": 47
        }
      ]
    },
    {
      "cell_type": "markdown",
      "metadata": {
        "id": "Hp3QgzqsXy3i"
      },
      "source": [
        "## Задача 10\n",
        "Теперь соедините эти же две матрицы горизонтально"
      ]
    },
    {
      "cell_type": "code",
      "metadata": {
        "id": "AW1ysttaXy3j",
        "colab": {
          "base_uri": "https://localhost:8080/"
        },
        "outputId": "0f3821d7-b946-4530-b07a-c45e2e5ce486"
      },
      "source": [
        "np.hstack([a, b])"
      ],
      "execution_count": null,
      "outputs": [
        {
          "output_type": "execute_result",
          "data": {
            "text/plain": [
              "array([[0., 1., 2., 3., 1., 1., 1., 1.],\n",
              "       [4., 5., 6., 7., 1., 1., 1., 1.]])"
            ]
          },
          "metadata": {
            "tags": []
          },
          "execution_count": 48
        }
      ]
    },
    {
      "cell_type": "markdown",
      "metadata": {
        "id": "cO0UywATXy3j"
      },
      "source": [
        "## Задача 11\n",
        "\n",
        "Сохраните в отдельную переменную второй столбец (столбец с индексом 1) из данного вам двумерного массива.\n",
        "\n",
        "Обратите внимение, что при вырезании столбца из матрицы, у вас получится одномерный numpy-array, а не двумерная матрица с одним столбцом!"
      ]
    },
    {
      "cell_type": "code",
      "metadata": {
        "id": "OiF6PNLaXy3j",
        "colab": {
          "base_uri": "https://localhost:8080/"
        },
        "outputId": "62175fd0-7ca1-465b-e92e-7b582ebd5334"
      },
      "source": [
        "arr = np.arange(12).reshape(3,4)\n",
        "arr"
      ],
      "execution_count": null,
      "outputs": [
        {
          "output_type": "execute_result",
          "data": {
            "text/plain": [
              "array([[ 0,  1,  2,  3],\n",
              "       [ 4,  5,  6,  7],\n",
              "       [ 8,  9, 10, 11]])"
            ]
          },
          "metadata": {
            "tags": []
          },
          "execution_count": 50
        }
      ]
    },
    {
      "cell_type": "code",
      "metadata": {
        "id": "p3kfwxOVXy3k",
        "colab": {
          "base_uri": "https://localhost:8080/"
        },
        "outputId": "d00aa75a-06f9-4b5e-9303-5b46c7241ddd"
      },
      "source": [
        "arr[:, 1]"
      ],
      "execution_count": null,
      "outputs": [
        {
          "output_type": "execute_result",
          "data": {
            "text/plain": [
              "array([1, 5, 9])"
            ]
          },
          "metadata": {
            "tags": []
          },
          "execution_count": 51
        }
      ]
    },
    {
      "cell_type": "markdown",
      "metadata": {
        "id": "Kqx9ejwSXy3k"
      },
      "source": [
        "## Задача 12\n",
        "\n",
        "Создайте массив из случайных чисел размера 3 на 4 (3 строки и 4 столбца) и сохраните его в переменную ```random_array```. Найдите среднее, медиану, стандартное отклонение созданной матрицы ```random_array``` по строкам и по столбцам. По одной строке на среднее, медиану, и стандартное отклонение для операций по строкам и по столбцам - всего 6 строк кода"
      ]
    },
    {
      "cell_type": "code",
      "metadata": {
        "id": "NqnBKuG1Xy3l",
        "colab": {
          "base_uri": "https://localhost:8080/"
        },
        "outputId": "f8add510-5ac3-4414-ac8c-d6df59c84570"
      },
      "source": [
        "random_array = np.random.randint(-20, 20, (3, 4))\n",
        "print(random_array.mean(axis=0)) #среднее по столбцам\n",
        "print(random_array.mean(axis=1)) #среднее по строкам\n",
        "print(np.median(random_array, axis=0)) #медиана по столбцам\n",
        "print(np.median(random_array, axis=1)) #медиана по строкам\n",
        "print(np.std(random_array, axis=0)) #стандартное отклонение по столбцам\n",
        "print(np.std(random_array, axis=1)) #стандартное отклонение по строкам\n",
        "\n"
      ],
      "execution_count": null,
      "outputs": [
        {
          "output_type": "stream",
          "text": [
            "[-17.66666667  -1.33333333 -11.           9.66666667]\n",
            "[-6.25 -2.25 -6.75]\n",
            "[-19.   5. -13.   7.]\n",
            "[-6.  -4.  -9.5]\n",
            "[2.62466929 9.67241209 4.3204938  6.79869268]\n",
            "[10.89437928 15.28684075  8.84236959]\n"
          ],
          "name": "stdout"
        }
      ]
    },
    {
      "cell_type": "markdown",
      "metadata": {
        "id": "983ZZbxkXy3l"
      },
      "source": [
        "## Задача 13\n",
        "\n",
        "Преобразуйте заданный одномерный numpy array ```arr``` в двумерную матрицу из одного столбца"
      ]
    },
    {
      "cell_type": "code",
      "metadata": {
        "id": "IdoA2v75Xy3l",
        "colab": {
          "base_uri": "https://localhost:8080/"
        },
        "outputId": "243a8314-591d-4bbe-8a04-7134f0684b52"
      },
      "source": [
        "arr = np.array([2, 4, 5, 7, 100])\n",
        "arr.shape"
      ],
      "execution_count": null,
      "outputs": [
        {
          "output_type": "execute_result",
          "data": {
            "text/plain": [
              "(5,)"
            ]
          },
          "metadata": {
            "tags": []
          },
          "execution_count": 7
        }
      ]
    },
    {
      "cell_type": "code",
      "metadata": {
        "id": "JljZ7PTgXy3l",
        "colab": {
          "base_uri": "https://localhost:8080/"
        },
        "outputId": "3460e02e-d452-46f2-d574-a7a3707d5405"
      },
      "source": [
        "arr_reshaped = arr[:, np.newaxis]\n",
        "arr_reshaped"
      ],
      "execution_count": null,
      "outputs": [
        {
          "output_type": "execute_result",
          "data": {
            "text/plain": [
              "array([[  2],\n",
              "       [  4],\n",
              "       [  5],\n",
              "       [  7],\n",
              "       [100]])"
            ]
          },
          "metadata": {
            "tags": []
          },
          "execution_count": 14
        }
      ]
    },
    {
      "cell_type": "code",
      "metadata": {
        "id": "BPEa1YwbXy3m",
        "colab": {
          "base_uri": "https://localhost:8080/"
        },
        "outputId": "d462bb8a-c426-4f52-8d0f-e241b76817c9"
      },
      "source": [
        "# размер полученной матрицы\n",
        "arr_reshaped.shape"
      ],
      "execution_count": null,
      "outputs": [
        {
          "output_type": "execute_result",
          "data": {
            "text/plain": [
              "(5, 1)"
            ]
          },
          "metadata": {
            "tags": []
          },
          "execution_count": 9
        }
      ]
    },
    {
      "cell_type": "markdown",
      "metadata": {
        "id": "Oh4yiBjRXy3m"
      },
      "source": [
        "Проверьте, что будет, если этот столбец вычесть из какой-нибудь матрицы размерности (5, 3)? Как numpy вычитает столбец из матрицы?"
      ]
    },
    {
      "cell_type": "code",
      "metadata": {
        "id": "Q0tPMl4nXy3m",
        "colab": {
          "base_uri": "https://localhost:8080/"
        },
        "outputId": "d20ecb4e-ffd1-4fc0-b056-da62162b6b4c"
      },
      "source": [
        "np.arange(15).reshape(5,3) - arr_reshaped"
      ],
      "execution_count": null,
      "outputs": [
        {
          "output_type": "execute_result",
          "data": {
            "text/plain": [
              "array([[ -2,  -1,   0],\n",
              "       [ -1,   0,   1],\n",
              "       [  1,   2,   3],\n",
              "       [  2,   3,   4],\n",
              "       [-88, -87, -86]])"
            ]
          },
          "metadata": {
            "tags": []
          },
          "execution_count": 16
        }
      ]
    },
    {
      "cell_type": "markdown",
      "metadata": {
        "id": "glQ2eltPXy3n"
      },
      "source": [
        "## Задача 14\n",
        "\n",
        "Найдите средние значения по строкам у созданной в 12-м задании матрицы ```random_array```. Вычтите полученные средния значения из соответствующих строк изначальной матрицы ```random_array```. Проверьте, что после вычитания средних среднее по каждой строке стало равно 0\n",
        "\n",
        "**Подсказка:** используйте для этого задания знания из задания 13 и вспомните, что в numpy из матрицы можно вычитать другую матрицу даже с меньшим числом колонок"
      ]
    },
    {
      "cell_type": "code",
      "metadata": {
        "id": "NhGpsNl_Xy3n",
        "colab": {
          "base_uri": "https://localhost:8080/"
        },
        "outputId": "14b170c2-d190-4680-dcb9-e4b7a8f2d2d9"
      },
      "source": [
        "sred = random_array.mean(axis=1)\n",
        "sred\n",
        "(random_array - sred[:, np.newaxis]).mean(axis=1)"
      ],
      "execution_count": null,
      "outputs": [
        {
          "output_type": "execute_result",
          "data": {
            "text/plain": [
              "array([0., 0., 0.])"
            ]
          },
          "metadata": {
            "tags": []
          },
          "execution_count": 19
        }
      ]
    },
    {
      "cell_type": "markdown",
      "metadata": {
        "id": "-tbDXnFTXy3n"
      },
      "source": [
        "**Примечание:** умение numpy догадываться о том, как можно прибавлять число к вектору/число к матрице/вектор к матрице и прочие подобные операции, называется ```broadcasting```. То есть numpy растягивает массивы меньшей размерности до массива большей размерности, чтобы у них стали одинаковые размерности, по особым правилам, которые позволяют довольно интуитивно вычесть строку из матрицы, и эта строка вычтется из каждой строки матрицы. Почитать об этом подробнее можно [здесь](https://numpy.org/doc/stable/user/basics.broadcasting.html) и[здесь](https://machinelearningmastery.com/broadcasting-with-numpy-arrays/) .\n",
        "\n",
        "А вот еще и гаглядные картинки, которые показывают, как работает broadcasting\n",
        "\n",
        "![](https://www.tutorialspoint.com/numpy/images/array.jpg)\n",
        "![](https://jakevdp.github.io/PythonDataScienceHandbook/figures/02.05-broadcasting.png)\n",
        "![](https://i.stack.imgur.com/JcKv1.png)"
      ]
    },
    {
      "cell_type": "markdown",
      "metadata": {
        "id": "GvOsRYmHXy3o"
      },
      "source": [
        "## Задача 15\n",
        "\n",
        "Запрограммируйте вычисление следующей формулы с помощью numpy:\n",
        "\n",
        "$$\n",
        "y = x + 2\\sqrt{x} + 8 \\cos (\\frac{x^2}{5})\n",
        "$$\n",
        "\n",
        "И постройте ее график.\n",
        "\n",
        "Справочник по математическим функциям в Numpy: https://numpy.org/doc/stable/reference/routines.math.html\n",
        "\n",
        "Помните, что операции над массивами в Numpу поэлементные, а значит, вы можете просто писать формулу для одной переменной, и Numpy применит ее ко всем элементам numpy-array"
      ]
    },
    {
      "cell_type": "code",
      "metadata": {
        "id": "ks2QiYbdXy3o"
      },
      "source": [
        "x = np.linspace(0, 10, 100)\n",
        "# ваш код тут\n",
        "y = x + 2 * np.sqrt(x) + 8 * np.cos(x ** 2 / 5)"
      ],
      "execution_count": null,
      "outputs": []
    },
    {
      "cell_type": "code",
      "metadata": {
        "id": "AwpXTRstXy3o",
        "colab": {
          "base_uri": "https://localhost:8080/",
          "height": 268
        },
        "outputId": "4e11676e-e198-4fc9-86ef-dc6d90a3e674"
      },
      "source": [
        "from matplotlib import pyplot as plt\n",
        "\n",
        "plt.plot(x, y)\n",
        "plt.show()"
      ],
      "execution_count": null,
      "outputs": [
        {
          "output_type": "display_data",
          "data": {
            "image/png": "[encoded data removed]",
            "text/plain": [
              "<Figure size 432x288 with 1 Axes>"
            ]
          },
          "metadata": {
            "tags": [],
            "needs_background": "light"
          }
        }
      ]
    },
    {
      "cell_type": "markdown",
      "metadata": {
        "id": "F0l-giFgXy3p"
      },
      "source": []
    },
    {
      "cell_type": "markdown",
      "metadata": {
        "id": "A48P3O7hdyS2"
      },
      "source": [
        "## Задача 16\n",
        "Написать функцию, которая по заданной длине последовательности (списка) находит среднее арифметическое ее членов.\n",
        "\n",
        "Реализуйте задачу с и без помощи numpy, сравните время выполнения.\n",
        "\n",
        "Важно, что в одном случае должны использоваться только структуры стандартной поставки языка Python3, а в случае с numpy работать лучше только с его абстракциями (начиная с создания массивов, и заканчивая вычислением метрики)."
      ]
    },
    {
      "cell_type": "code",
      "metadata": {
        "colab": {
          "base_uri": "https://localhost:8080/"
        },
        "id": "hvmLROE2d84h",
        "outputId": "261b2908-a34c-4c6b-ef5f-bb1b4e290c93"
      },
      "source": [
        "%%time\n",
        "print('Указывайте %%time в начале клетки, чтобы посмотреть время её выполнения')"
      ],
      "execution_count": null,
      "outputs": [
        {
          "output_type": "stream",
          "text": [
            "Указывайте %%time в начале клетки, чтобы посмотреть время её выполнения\n",
            "CPU times: user 0 ns, sys: 631 µs, total: 631 µs\n",
            "Wall time: 527 µs\n"
          ],
          "name": "stdout"
        }
      ]
    },
    {
      "cell_type": "code",
      "metadata": {
        "id": "O1k2LTh9fJq5"
      },
      "source": [
        "%%time\n"
      ],
      "execution_count": null,
      "outputs": []
    },
    {
      "cell_type": "markdown",
      "metadata": {
        "id": "oKNt01d0eGjv"
      },
      "source": [
        "## Задача 17\n",
        "Пусть мы имеем 2 массива (заданы ниже в коде). Требуется создать массив, который получает результат поэлементно True, если четные элементы 1го массива больше 2го и True, если нечетные элементы 2го больше элементов первого. В противном случае возвращать False.\n",
        "\n",
        "Реализовать задачу с помощью numpy\n",
        "\n",
        "Пример массивов и результата:\n",
        "\n",
        "a = [7, 3, 5, 9, 2, 5, 4, 8, 9, 0]\n",
        "\n",
        "b = [2, 8, 6, 7, 1, 3, 2, 9, 5, 1]\n",
        "\n",
        "res = [False, False, True, True, False, True, False, False, False, False]\n",
        "\n",
        "Вы можете сделать задачу с помощью слайсинга или комбинации функций np.arange и np.where"
      ]
    },
    {
      "cell_type": "code",
      "metadata": {
        "id": "sTb3Ht9aeN6U"
      },
      "source": [
        "# ваш код тут"
      ],
      "execution_count": null,
      "outputs": []
    },
    {
      "cell_type": "markdown",
      "metadata": {
        "id": "UeJ5Ogg_eOVZ"
      },
      "source": [
        "## Задача 18\n",
        "Найдите общие элементы двух numpy массивов (воспользуйтесь готовой функцией)"
      ]
    },
    {
      "cell_type": "code",
      "metadata": {
        "id": "J7azboiPeTt4",
        "colab": {
          "base_uri": "https://localhost:8080/"
        },
        "outputId": "66075834-5e00-4c73-c74b-5833e17ffb1b"
      },
      "source": [
        "arr1 = np.random.randint(0,10,10)\n",
        "arr2 = np.random.randint(0,10,10)\n",
        "print(np.intersect1d(arr1, arr2))"
      ],
      "execution_count": null,
      "outputs": [
        {
          "output_type": "stream",
          "text": [
            "[0 3 4 5 7]\n"
          ],
          "name": "stdout"
        }
      ]
    },
    {
      "cell_type": "markdown",
      "metadata": {
        "id": "iy8oPUa7ebvV"
      },
      "source": [
        "## Задача 19\n",
        "Создайте массив размера 10 со значениями от 0 до 1 (интервал между значениями равномерный), не включая концы. См np.linspace + слайсинг"
      ]
    },
    {
      "cell_type": "code",
      "metadata": {
        "id": "MCEXaem0fZym",
        "colab": {
          "base_uri": "https://localhost:8080/"
        },
        "outputId": "4bb84193-5094-411d-dc8f-e926f4644b25"
      },
      "source": [
        "m = np.linspace(0, 1, 12)\n",
        "a = m[1:11]\n",
        "a"
      ],
      "execution_count": null,
      "outputs": [
        {
          "output_type": "execute_result",
          "data": {
            "text/plain": [
              "array([0.09090909, 0.18181818, 0.27272727, 0.36363636, 0.45454545,\n",
              "       0.54545455, 0.63636364, 0.72727273, 0.81818182, 0.90909091])"
            ]
          },
          "metadata": {
            "tags": []
          },
          "execution_count": 32
        }
      ]
    },
    {
      "cell_type": "markdown",
      "metadata": {
        "id": "gnrh4ss9elZc"
      },
      "source": [
        "## Задача 20\n",
        "Создайте случайный вектор размера 10, и замените в нем максимальное значение на 0"
      ]
    },
    {
      "cell_type": "code",
      "metadata": {
        "id": "bqt33AZjfdl5",
        "colab": {
          "base_uri": "https://localhost:8080/"
        },
        "outputId": "66fc738c-7d0e-4302-8fdb-d39c3da84316"
      },
      "source": [
        "v = np.random.rand(10)\n",
        "v[v.argmax()] = 0\n",
        "print(v)"
      ],
      "execution_count": null,
      "outputs": [
        {
          "output_type": "stream",
          "text": [
            "[0.5279444  0.         0.24216135 0.51578419 0.19660421 0.54578178\n",
            " 0.3120557  0.8264754  0.8834861  0.67809335]\n"
          ],
          "name": "stdout"
        }
      ]
    },
    {
      "cell_type": "markdown",
      "metadata": {
        "id": "Ce8dqq1CXy3p"
      },
      "source": [
        "### Дополнительные материалы\n",
        "\n",
        "Для самых любознательных и тех, кто хочет еще порешать задачи, есть сборник \"100 заданий по Numpy\": https://www.machinelearningplus.com/python/101-numpy-exercises-python/\n",
        "\n",
        "Для тех, кому нужно руководство по матричным операциям в Numpy: https://www.programiz.com/python-programming/matrix"
      ]
    },
    {
      "cell_type": "code",
      "metadata": {
        "id": "q4lqcDw3Xy3p"
      },
      "source": [],
      "execution_count": null,
      "outputs": []
    }
  ]
}