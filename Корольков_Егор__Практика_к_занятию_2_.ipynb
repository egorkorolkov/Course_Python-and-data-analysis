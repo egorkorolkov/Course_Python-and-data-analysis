{
  "nbformat": 4,
  "nbformat_minor": 0,
  "metadata": {
    "colab": {
      "provenance": []
    },
    "kernelspec": {
      "name": "python3",
      "display_name": "Python 3"
    },
    "language_info": {
      "name": "python"
    }
  },
  "cells": [
    {
      "cell_type": "markdown",
      "metadata": {
        "id": "fFFk_CvOWXUh"
      },
      "source": [
        "# Часть 1. Задачи"
      ]
    },
    {
      "cell_type": "markdown",
      "metadata": {
        "id": "Qscqa3B6KDFl"
      },
      "source": [
        "## Содержание\n",
        "\n",
        "<b>В этом заданиии мы попрактикуемся со следующими структурами данных: </b>\n",
        "1. <A HREF=\"https://docs.python.org/3/tutorial/datastructures.html#more-on-lists\"> List </A>\n",
        "2. <A HREF=\"https://docs.python.org/3/tutorial/datastructures.html#tuples-and-sequences\"> Tuple </A>\n",
        "3. <A HREF=\"https://docs.python.org/3/tutorial/datastructures.html#dictionaries\"> Dictionary </A>\n",
        "4. <A HREF=\"https://docs.python.org/3/tutorial/datastructures.html#sets\"> Set </A>\n",
        "5. <A HREF=\"https://realpython.com/python-counter/\"> Counter </A>\n",
        "\n",
        "\n"
      ]
    },
    {
      "cell_type": "markdown",
      "metadata": {
        "id": "62IDHeoYKrLq"
      },
      "source": [
        "## <font color=\"green\">1. List</font>"
      ]
    },
    {
      "cell_type": "markdown",
      "metadata": {
        "id": "Qp1oxBvMWBNg"
      },
      "source": [
        "### 1.1\n",
        "\n",
        "Преобразуйте строку python_text в список, элементами которого являются просто слова в тексте (без знаков препинания, чисел или специальных символов). Затем распечатайте список и длину списка (то есть количество слов)"
      ]
    },
    {
      "cell_type": "code",
      "metadata": {
        "id": "0WJIIZ_LJo22"
      },
      "source": [
        "python_text = \"\"\"\n",
        "Python is an interpreted high-level general-purpose programming language. Python's design\n",
        "philosophy emphasizes code readability with its notable use of significant indentation. Its\n",
        "language constructs as well as its object-oriented approach aim to help programmers write clear,\n",
        "logical code for small and large-scale projects. Python is dynamically-typed and\n",
        "garbage-collected. It supports multiple programming paradigms, including structured (particularly,\n",
        "procedural), object-oriented and functional programming. Python is often described as a \"batteries\n",
        "included\" language due to its comprehensive standard library. Guido van Rossum began working on\n",
        "Python in the late 1980s, as a successor to the ABC programming language, and first released it in\n",
        "1991 as Python 0.9.0. Python 2.0 was released in 2000 and introduced new features, such as list\n",
        "comprehensions and a garbage collection system using reference counting. Python 3.0 was released in\n",
        "2008 and was a major revision of the language that is not completely backward-compatible and much\n",
        "Python 2 code does not run unmodified on Python 3. Python 2 was discontinued with version 2.7.18 in\n",
        "2020. Python consistently ranks as one of the most popular programming\n",
        "languages.\n",
        "\"\"\""
      ],
      "execution_count": null,
      "outputs": []
    },
    {
      "cell_type": "code",
      "metadata": {
        "id": "Ra-NYTR0Vrxq",
        "colab": {
          "base_uri": "https://localhost:8080/"
        },
        "outputId": "306a10f9-acef-4694-a804-7488f0026ade"
      },
      "source": [
        "help(python_text.split)\n",
        "help(str.replace)"
      ],
      "execution_count": null,
      "outputs": [
        {
          "output_type": "stream",
          "text": [
            "Help on built-in function split:\n",
            "\n",
            "split(sep=None, maxsplit=-1) method of builtins.str instance\n",
            "    Return a list of the words in the string, using sep as the delimiter string.\n",
            "    \n",
            "    sep\n",
            "      The delimiter according which to split the string.\n",
            "      None (the default value) means split according to any whitespace,\n",
            "      and discard empty strings from the result.\n",
            "    maxsplit\n",
            "      Maximum number of splits to do.\n",
            "      -1 (the default value) means no limit.\n",
            "\n",
            "Help on method_descriptor:\n",
            "\n",
            "replace(self, old, new, count=-1, /)\n",
            "    Return a copy with all occurrences of substring old replaced by new.\n",
            "    \n",
            "      count\n",
            "        Maximum number of occurrences to replace.\n",
            "        -1 (the default value) means replace all occurrences.\n",
            "    \n",
            "    If the optional argument count is given, only the first count occurrences are\n",
            "    replaced.\n",
            "\n"
          ],
          "name": "stdout"
        }
      ]
    },
    {
      "cell_type": "code",
      "metadata": {
        "id": "jKw9M51YYWIB"
      },
      "source": [
        "\n"
      ],
      "execution_count": null,
      "outputs": []
    },
    {
      "cell_type": "markdown",
      "metadata": {
        "id": "I6UzAp6gYjb1"
      },
      "source": [
        "### 1.2\n",
        "\n",
        "Напечатайте все подсписки списка ```nucleotides```.\n",
        "\n",
        "Пример для ```[0, 1]```:\n",
        "\n",
        "*   []\n",
        "*   [0]\n",
        "*   [1]\n",
        "*   [0, 1]\n",
        "\n",
        "[Источник](https://science-advice.com/genome-vs-exome) вдохновения :)"
      ]
    },
    {
      "cell_type": "code",
      "metadata": {
        "id": "4PdAtInDYmhS"
      },
      "source": [
        "nucleotides = ['A', 'T', 'G', 'C']"
      ],
      "execution_count": null,
      "outputs": []
    },
    {
      "cell_type": "code",
      "metadata": {
        "id": "GxmU0imhYmay",
        "colab": {
          "base_uri": "https://localhost:8080/"
        },
        "outputId": "576fa058-4136-4aa9-97d1-a9f055ad0d29"
      },
      "source": [
        "n = len(nucleotides)\n",
        "print([])\n",
        "for i in range(1, 2 ** (n)):\n",
        "  b = ''\n",
        "  while i > 0:\n",
        "    b = str(i % 2) + b\n",
        "    i = i // 2\n",
        "  for j in range(n - len(b)):\n",
        "    b = '0' + b\n",
        "  c = []\n",
        "  for k in range(n):\n",
        "    if b[k] == '1':\n",
        "      c.append(nucleotides[k])\n",
        "  print(c)\n",
        "\n",
        "\n",
        "\n",
        "\n",
        "\n",
        "\n",
        "\n",
        "\n",
        "\n"
      ],
      "execution_count": null,
      "outputs": [
        {
          "output_type": "stream",
          "text": [
            "[]\n",
            "['C']\n",
            "['G']\n",
            "['G', 'C']\n",
            "['T']\n",
            "['T', 'C']\n",
            "['T', 'G']\n",
            "['T', 'G', 'C']\n",
            "['A']\n",
            "['A', 'C']\n",
            "['A', 'G']\n",
            "['A', 'G', 'C']\n",
            "['A', 'T']\n",
            "['A', 'T', 'C']\n",
            "['A', 'T', 'G']\n",
            "['A', 'T', 'G', 'C']\n"
          ],
          "name": "stdout"
        }
      ]
    },
    {
      "cell_type": "markdown",
      "metadata": {
        "id": "dEsoqskyvsjY"
      },
      "source": [
        "### 1.3\n",
        "\n",
        "С помощью list comprehention создайте двумерную матрицу размера $N \\times N$, в которой находятся квадраты последовательных целых чисел, начиная с $0$. Сначала заполняется первый столбец, затем второй и т.д."
      ]
    },
    {
      "cell_type": "code",
      "metadata": {
        "id": "V9ek6RxMYmUN",
        "colab": {
          "base_uri": "https://localhost:8080/"
        },
        "outputId": "cd356ef2-f741-4d80-8996-1eb7b717584e"
      },
      "source": [
        "n = int(input())\n",
        "c = [[x ** 2 for x in range(i, i + (n-1) * n + 1, n)] for i in range(n)]\n",
        "for k in range(n):\n",
        "  print(c[k], '\\n')"
      ],
      "execution_count": null,
      "outputs": [
        {
          "output_type": "stream",
          "text": [
            "5\n",
            "[0, 25, 100, 225, 400] \n",
            "\n",
            "[1, 36, 121, 256, 441] \n",
            "\n",
            "[4, 49, 144, 289, 484] \n",
            "\n",
            "[9, 64, 169, 324, 529] \n",
            "\n",
            "[16, 81, 196, 361, 576] \n",
            "\n"
          ],
          "name": "stdout"
        }
      ]
    },
    {
      "cell_type": "code",
      "metadata": {
        "id": "i8D2kMbiYmMw"
      },
      "source": [
        "# пример\n",
        "# [[0, 9, 36]\n",
        "# [1, 16, 49]\n",
        "# [4, 25, 64]]"
      ],
      "execution_count": null,
      "outputs": []
    },
    {
      "cell_type": "markdown",
      "metadata": {
        "id": "yj2xdDhby4-P"
      },
      "source": [
        "### 1.4\n",
        "\n",
        "Напишите программу, декодирующую исходный закодированный список.\n",
        "\n",
        "Пример:\n",
        "\n",
        "In: ```encode_list = [0, [1, 2], 4, [1, 0, 3]]```\n",
        "\n",
        "Out: ```decode_list = [0, 1, 2, 4, 1, 0, 3]```\n",
        "\n",
        "Гарантируется, что не будет вложенности больше, чем в примере."
      ]
    },
    {
      "cell_type": "code",
      "metadata": {
        "id": "tqK4spS00boa",
        "colab": {
          "base_uri": "https://localhost:8080/"
        },
        "outputId": "e91568b7-60eb-47c5-c2fe-58a2df2ef835"
      },
      "source": [
        "encode_list = [0, [1, 2], 4, [1, 0, 3]]\n",
        "decode_list = []\n",
        "for i in range(len(encode_list)):\n",
        "  if type(encode_list[i]) == list:\n",
        "    for j in range(len(encode_list[i])):\n",
        "      decode_list.append(encode_list[i][j])\n",
        "  else:\n",
        "    decode_list.append(encode_list[i])\n",
        "print(decode_list)\n",
        "\n",
        "\n",
        "\n"
      ],
      "execution_count": null,
      "outputs": [
        {
          "output_type": "stream",
          "text": [
            "[0, 1, 2, 4, 1, 0, 3]\n"
          ],
          "name": "stdout"
        }
      ]
    },
    {
      "cell_type": "markdown",
      "metadata": {
        "id": "rlxYviD80yPy"
      },
      "source": [
        "## <font color=\"green\">2. Tuple</font>"
      ]
    },
    {
      "cell_type": "markdown",
      "metadata": {
        "id": "9jvjDzsR1WdG"
      },
      "source": [
        "### 2.1\n",
        "\n",
        "Напишите программу, превращающую строку в кортеж"
      ]
    },
    {
      "cell_type": "code",
      "metadata": {
        "id": "ELri3vyy30Qa",
        "colab": {
          "base_uri": "https://localhost:8080/"
        },
        "outputId": "0928937e-b514-49db-e29d-6acbd26193b1"
      },
      "source": [
        "input_str = input('Введите строку: ')\n",
        "c = tuple(input_str)\n",
        "print(c)"
      ],
      "execution_count": null,
      "outputs": [
        {
          "output_type": "stream",
          "text": [
            "Введите строку: sgdfnodf\n",
            "('s', 'g', 'd', 'f', 'n', 'o', 'd', 'f')\n"
          ],
          "name": "stdout"
        }
      ]
    },
    {
      "cell_type": "markdown",
      "metadata": {
        "id": "xyu-HcfR1ZCE"
      },
      "source": [
        "### 2.2\n",
        "\n",
        "Напишите программу, подсчитывающую сумму элементов и их среднее для каждого кортежа из списка кортежей. На выход вернуть список кортежей ```(sum, mean)```"
      ]
    },
    {
      "cell_type": "code",
      "metadata": {
        "id": "TOCPZF5j4Zh7",
        "colab": {
          "base_uri": "https://localhost:8080/"
        },
        "outputId": "34f36c52-fa21-45b8-daf4-aef4512e23e6"
      },
      "source": [
        "list_of_tuples = [(1, 2, 6), (2, 3, -6), (3, 4), (2, 2, 2, 2)]\n",
        "c = [(sum(list_of_tuples[i]), sum(list_of_tuples[i]) / len(list_of_tuples[i])) for i in range(len(list_of_tuples))]\n",
        "c\n",
        "\n",
        "\n",
        "\n"
      ],
      "execution_count": null,
      "outputs": [
        {
          "output_type": "execute_result",
          "data": {
            "text/plain": [
              "[(9, 3.0), (-1, -0.3333333333333333), (7, 3.5), (8, 2.0)]"
            ]
          },
          "metadata": {
            "tags": []
          },
          "execution_count": 42
        }
      ]
    },
    {
      "cell_type": "markdown",
      "metadata": {
        "id": "xlH6puwf1ao_"
      },
      "source": [
        "### 2.3\n",
        "\n",
        "Пользователь вводит строки в формате \"name number\". Символом конца ввода служит пустая строка. Верните список кортежей (\"name\", number), отсортированный в порядке убывания по числам. Для одинаковых чисел сортировать кортежи в лексикографическом порядке по имени."
      ]
    },
    {
      "cell_type": "code",
      "metadata": {
        "id": "xu_YBYih8ANj",
        "colab": {
          "base_uri": "https://localhost:8080/"
        },
        "outputId": "79a17b56-5d86-467c-c8af-b0ffc61f9c21"
      },
      "source": [
        "def va(a):\n",
        "  return a[1]\n",
        "\n",
        "\n",
        "c = []\n",
        "a = input()\n",
        "while a != '':\n",
        "  c.append(a)\n",
        "  a = input()\n",
        "d = []\n",
        "for i in range(len(c)):\n",
        "  g = c[i].split()\n",
        "  d.append(g)\n",
        "\n",
        "d.sort()\n",
        "\n",
        "d.sort(key=va, reverse=True)\n",
        "\n",
        "k = [(d[i][0], int(d[i][1])) for i in range(len(d))]\n",
        "k\n"
      ],
      "execution_count": null,
      "outputs": [
        {
          "output_type": "stream",
          "text": [
            "f 4\n",
            "g 5\n",
            "s 4\n",
            "k 6\n",
            "a 1\n",
            "\n"
          ],
          "name": "stdout"
        },
        {
          "output_type": "execute_result",
          "data": {
            "text/plain": [
              "[('k', 6), ('g', 5), ('f', 4), ('s', 4), ('a', 1)]"
            ]
          },
          "metadata": {
            "tags": []
          },
          "execution_count": 61
        }
      ]
    },
    {
      "cell_type": "markdown",
      "metadata": {
        "id": "gCxt_pM91cbi"
      },
      "source": [
        "### 2.4\n",
        "\n",
        "Сгенерируйте список из N кортежей одинаковой длинны, а затем выведите кортеж, содержащий поэлементные суммы  кортежей.\n",
        "\n",
        "Пример:\n",
        "\n",
        "Вход: ```[(1, 5), (1, 7), (2, 8)]```\n",
        "\n",
        "Выход: ```(4, 20)```"
      ]
    },
    {
      "cell_type": "code",
      "metadata": {
        "id": "araM8w6J9Ox-",
        "colab": {
          "base_uri": "https://localhost:8080/"
        },
        "outputId": "8125ce98-150c-41db-c739-dcc6d5d02b5b"
      },
      "source": [
        "import random\n",
        "n = int(input())\n",
        "l = int(input())\n",
        "c = []\n",
        "for i in range(n):\n",
        "  c.append(tuple([random.randint(0, 100) for j in range(l)]))\n",
        "print(c)\n",
        "s = [0 for k in range(l)]\n",
        "for j in range(l):\n",
        "  for h in range(n):\n",
        "    s[j] += c[h][j]\n",
        "tuple(s)\n",
        "\n"
      ],
      "execution_count": null,
      "outputs": [
        {
          "output_type": "stream",
          "text": [
            "7\n",
            "3\n",
            "[(97, 57, 72), (48, 64, 43), (98, 1, 91), (33, 51, 37), (10, 33, 83), (44, 36, 88), (52, 85, 32)]\n"
          ],
          "name": "stdout"
        },
        {
          "output_type": "execute_result",
          "data": {
            "text/plain": [
              "(382, 327, 446)"
            ]
          },
          "metadata": {
            "tags": []
          },
          "execution_count": 72
        }
      ]
    },
    {
      "cell_type": "markdown",
      "metadata": {
        "id": "nWbnWSTK1DBj"
      },
      "source": [
        "### <font color=\"green\">3. Dictionary</font>"
      ]
    },
    {
      "cell_type": "markdown",
      "metadata": {
        "id": "_dKenC0B1oUM"
      },
      "source": [
        "### 3.1\n",
        "\n",
        "Напишите программу для слияния нескольких словарей в один. Если ключи совпадают, то оставить последний встретившийся элемент."
      ]
    },
    {
      "cell_type": "code",
      "metadata": {
        "colab": {
          "base_uri": "https://localhost:8080/"
        },
        "id": "Vj4KnLpm-ibk",
        "outputId": "056aa8fb-a1ef-46f9-da94-9a9b7566f71f"
      },
      "source": [
        "dict_1 = {'key1': 10, 'key2': 20}\n",
        "dict_2 = {'key3': 30, 'key4': 40}\n",
        "dict_3 = {'key1': 50, 'key5': 60}\n",
        "\n",
        "c = {**dict_1,  **dict_2,  **dict_3}\n",
        "c"
      ],
      "execution_count": null,
      "outputs": [
        {
          "output_type": "execute_result",
          "data": {
            "text/plain": [
              "{'key1': 50, 'key2': 20, 'key3': 30, 'key4': 40, 'key5': 60}"
            ]
          },
          "metadata": {
            "tags": []
          },
          "execution_count": 75
        }
      ]
    },
    {
      "cell_type": "markdown",
      "metadata": {
        "id": "O_O4Rmey1oSZ"
      },
      "source": [
        "### 3.2\n",
        "\n",
        "Напишите программу для слияния нескольких словарей в один. Если ключи совпадают, то оставить первый встретившийся элемент."
      ]
    },
    {
      "cell_type": "code",
      "metadata": {
        "id": "8fVkI8tt_1ts",
        "colab": {
          "base_uri": "https://localhost:8080/"
        },
        "outputId": "28395f2a-b67c-4883-8954-b697342e936e"
      },
      "source": [
        "dict_1 = {'key1': 10, 'key2': 20}\n",
        "dict_2 = {'key3': 30, 'key4': 40}\n",
        "dict_3 = {'key1': 50, 'key5': 60}\n",
        "\n",
        "c = {**dict_3,  **dict_2,  **dict_1}\n",
        "c"
      ],
      "execution_count": null,
      "outputs": [
        {
          "output_type": "execute_result",
          "data": {
            "text/plain": [
              "{'key1': 10, 'key2': 20, 'key3': 30, 'key4': 40, 'key5': 60}"
            ]
          },
          "metadata": {
            "tags": []
          },
          "execution_count": 76
        }
      ]
    },
    {
      "cell_type": "markdown",
      "metadata": {
        "id": "ueTT6bk71oHg"
      },
      "source": [
        "### 3.3\n",
        "\n",
        "На вход подается строка, ввод с клавиатуры. Выведите словарь символов этой строки. Значением является число вхождений."
      ]
    },
    {
      "cell_type": "code",
      "metadata": {
        "id": "figvmLJnAeTi",
        "colab": {
          "base_uri": "https://localhost:8080/"
        },
        "outputId": "df6666f6-d90c-4ee1-a1b4-60782b5f9773"
      },
      "source": [
        "c = input()\n",
        "s = {a: c.count(a) for a in c}\n",
        "s\n",
        "\n",
        "\n"
      ],
      "execution_count": null,
      "outputs": [
        {
          "output_type": "stream",
          "text": [
            "sfofdiuaidpvihffjslnvudo\n"
          ],
          "name": "stdout"
        },
        {
          "output_type": "execute_result",
          "data": {
            "text/plain": [
              "{'a': 1,\n",
              " 'd': 3,\n",
              " 'f': 4,\n",
              " 'h': 1,\n",
              " 'i': 3,\n",
              " 'j': 1,\n",
              " 'l': 1,\n",
              " 'n': 1,\n",
              " 'o': 2,\n",
              " 'p': 1,\n",
              " 's': 2,\n",
              " 'u': 2,\n",
              " 'v': 2}"
            ]
          },
          "metadata": {
            "tags": []
          },
          "execution_count": 77
        }
      ]
    },
    {
      "cell_type": "markdown",
      "metadata": {
        "id": "WjxKhNvp1n-6"
      },
      "source": [
        "### 3.4\n",
        "\n",
        "В списке, полученном в номере 1.1, посчитайте вхождение каждого слова. Вывести словарь ```\"слово\": число вхождений```, наиболее часто встречающееся слово и самое длинное слово."
      ]
    },
    {
      "cell_type": "code",
      "metadata": {
        "id": "KOENr5htBweR"
      },
      "source": [
        "# ваш код тут"
      ],
      "execution_count": null,
      "outputs": []
    },
    {
      "cell_type": "markdown",
      "metadata": {
        "id": "L6xolkF91EGp"
      },
      "source": [
        "## <font color=\"green\">4. Set</font>"
      ]
    },
    {
      "cell_type": "markdown",
      "metadata": {
        "id": "hgRL42ms2FIr"
      },
      "source": [
        "### 4.1\n",
        "\n",
        "Даны списки:\n",
        "\n",
        "a = [1, 1, 2, 3, 5, 8, 13, 21, 34, 55, 89];\n",
        "\n",
        "b = [1, 2, 3, 4, 5, 6, 7, 8, 9, 10, 11, 12, 13].\n",
        "\n",
        "Нужно вернуть список, который состоит из элементов, общих для этих двух списков.\n",
        "\n",
        "Замечание: вы уже видели это задание в прошлой работе. Обратите внимание на тему."
      ]
    },
    {
      "cell_type": "code",
      "metadata": {
        "colab": {
          "base_uri": "https://localhost:8080/"
        },
        "id": "zL9x-4C6ERRk",
        "outputId": "1cd3344c-c99f-42d7-d45c-72e01933cb37"
      },
      "source": [
        "a = [1, 1, 2, 3, 5, 8, 13, 21, 34, 55, 89]\n",
        "b = [1, 2, 3, 4, 5, 6, 7, 8, 9, 10, 11, 12, 13]\n",
        "print(set(a) & set(b))"
      ],
      "execution_count": null,
      "outputs": [
        {
          "output_type": "stream",
          "text": [
            "{1, 2, 3, 5, 8, 13}\n"
          ],
          "name": "stdout"
        }
      ]
    },
    {
      "cell_type": "markdown",
      "metadata": {
        "id": "EclUCiDK2E_V"
      },
      "source": [
        "### 4.2\n",
        "\n",
        "Сгенерируйте последовательность ```numbers``` из 20 натуральных чисел не больше 100, выведите ее на печать, затем нужно проверить, все ли числа в последовательности ```numbers``` уникальны."
      ]
    },
    {
      "cell_type": "code",
      "metadata": {
        "id": "gaGmIjS8Dx0K",
        "colab": {
          "base_uri": "https://localhost:8080/"
        },
        "outputId": "a5571268-1738-46c1-c141-2fe74fffdfa8"
      },
      "source": [
        "a = [random.randint(1, 100) for i in range(20)]\n",
        "print(a)\n",
        "c = set(a)\n",
        "print(c)\n",
        "if len(c) == len(a):\n",
        "  print('yes')\n",
        "else:\n",
        "  print('no')\n"
      ],
      "execution_count": null,
      "outputs": [
        {
          "output_type": "stream",
          "text": [
            "[20, 18, 9, 59, 89, 67, 42, 31, 23, 100, 2, 2, 25, 60, 49, 86, 63, 21, 46, 21]\n",
            "{2, 67, 100, 9, 42, 46, 49, 18, 20, 21, 86, 23, 89, 59, 60, 63, 25, 31}\n",
            "no\n"
          ],
          "name": "stdout"
        }
      ]
    },
    {
      "cell_type": "markdown",
      "metadata": {
        "id": "vjQsMVms2E3G"
      },
      "source": [
        "### 4.3\n",
        "\n",
        "Напишите программу, которая принимает два списка чисел и выводит все элементы, встречающиейся только в одном списке."
      ]
    },
    {
      "cell_type": "code",
      "metadata": {
        "id": "tjsqtMTREcoJ",
        "colab": {
          "base_uri": "https://localhost:8080/"
        },
        "outputId": "6e745224-dc85-43a9-8437-8131d3669fe2"
      },
      "source": [
        "a = [1, 1, 2, 3, 5, 8, 13, 21, 34, 55, 89]\n",
        "b = [1, 2, 3, 4, 5, 6, 7, 8, 9, 10, 11, 12, 13]\n",
        "print(set(a) ^ set(b))\n",
        "\n",
        "\n"
      ],
      "execution_count": null,
      "outputs": [
        {
          "output_type": "stream",
          "text": [
            "{34, 4, 6, 7, 9, 10, 11, 12, 21, 55, 89}\n"
          ],
          "name": "stdout"
        }
      ]
    },
    {
      "cell_type": "markdown",
      "metadata": {
        "id": "_3TFkv6V2EuJ"
      },
      "source": [
        "### 4.4\n",
        "\n",
        "Выведите максимальный и минимальный элементы множества"
      ]
    },
    {
      "cell_type": "code",
      "metadata": {
        "id": "-6hF_dFKE1x7",
        "colab": {
          "base_uri": "https://localhost:8080/"
        },
        "outputId": "896b85df-70ab-4f4c-8466-6d93b9aa5cbc"
      },
      "source": [
        "my_set = {i ** 2 // 5 for i in range(100)}\n",
        "print(my_set)\n",
        "print(max(my_set))\n",
        "print(min(my_set))"
      ],
      "execution_count": null,
      "outputs": [
        {
          "output_type": "stream",
          "text": [
            "{0, 1, 3, 5, 7, 520, 9, 12, 1036, 1548, 16, 20, 24, 28, 540, 33, 39, 1065, 45, 1584, 561, 51, 57, 64, 583, 72, 1095, 80, 1620, 88, 605, 96, 1125, 105, 115, 627, 1656, 125, 1155, 135, 649, 145, 156, 1692, 672, 1185, 168, 180, 696, 192, 1216, 1729, 204, 720, 217, 1248, 231, 744, 1767, 245, 768, 1280, 259, 1805, 273, 793, 288, 1312, 304, 819, 1843, 320, 1344, 845, 336, 1881, 352, 1377, 871, 369, 1920, 897, 387, 1411, 405, 924, 1445, 423, 1960, 952, 441, 1479, 460, 980, 480, 1513, 1008, 500}\n",
            "1960\n",
            "0\n"
          ],
          "name": "stdout"
        }
      ]
    },
    {
      "cell_type": "markdown",
      "metadata": {
        "id": "OMY-1gkh1E6G"
      },
      "source": [
        "## <font color=\"green\">5. Counter</font>"
      ]
    },
    {
      "cell_type": "markdown",
      "metadata": {
        "id": "2vt-juuV2vyg"
      },
      "source": [
        "### 5.1\n",
        "\n",
        "С помощью Counter выполните номер 3.3\n"
      ]
    },
    {
      "cell_type": "code",
      "metadata": {
        "id": "nW9C_rwWGtQl",
        "colab": {
          "base_uri": "https://localhost:8080/"
        },
        "outputId": "b14702b1-6e48-4ed4-b0a1-8be9e234c927"
      },
      "source": [
        "h = input()\n",
        "import collections\n",
        "c = collections.Counter()\n",
        "for l in h:\n",
        "  c[l] += 1\n",
        "print(c)\n"
      ],
      "execution_count": null,
      "outputs": [
        {
          "output_type": "stream",
          "text": [
            "sdgldkfjdgshlvnfdalv\n",
            "Counter({'d': 4, 'l': 3, 's': 2, 'g': 2, 'f': 2, 'v': 2, 'k': 1, 'j': 1, 'h': 1, 'n': 1, 'a': 1})\n"
          ],
          "name": "stdout"
        }
      ]
    },
    {
      "cell_type": "markdown",
      "metadata": {
        "id": "TNJmtokIGwm-"
      },
      "source": [
        "### 5.2\n",
        "\n",
        "С помощью Counter посчитайте число слов в тексте 1.1 и количество вхождений каждого слова. Выведите самое частое слово."
      ]
    },
    {
      "cell_type": "code",
      "metadata": {
        "id": "Bo60N96iHLQu"
      },
      "source": [
        "# ваш код тут"
      ],
      "execution_count": null,
      "outputs": []
    },
    {
      "cell_type": "markdown",
      "metadata": {
        "id": "bbpw8sYhVJ9z"
      },
      "source": [
        "# Часть 2. Pythontutor.ru"
      ]
    },
    {
      "cell_type": "markdown",
      "metadata": {
        "id": "Ir6WQb5SVNgf"
      },
      "source": [
        "Замечание: если вы уже отправляли скриншот в первом задании, то прикрепите его еще раз.\n",
        "\n",
        "На сайте http://pythontutor.ru/ решить по 5 любых задач на выбор в каждой из оставшихся тем.\n",
        "\n",
        "Когда решите задачи, делаете скриншот числа решенных задач по каждой теме в личном кабинете. Скриншот прикрепляете в классрум, как описано в обучающей инструкции.\n",
        "\n"
      ]
    }
  ]
}