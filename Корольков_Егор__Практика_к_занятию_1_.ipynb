{
  "nbformat": 4,
  "nbformat_minor": 0,
  "metadata": {
    "colab": {
      "provenance": []
    },
    "kernelspec": {
      "name": "python3",
      "display_name": "Python 3"
    }
  },
  "cells": [
    {
      "cell_type": "markdown",
      "metadata": {
        "id": "EVbqAmZF1ckK"
      },
      "source": [
        "## Часть 1. Задачи"
      ]
    },
    {
      "cell_type": "markdown",
      "metadata": {
        "id": "_9j_aLkqSrBi"
      },
      "source": [
        "Для создания списка чисел можно использовать модуль [random](https://python-scripts.com/random)"
      ]
    },
    {
      "cell_type": "code",
      "metadata": {
        "id": "xMl6GayDUCB4"
      },
      "source": [
        "import random\n",
        "import math"
      ],
      "execution_count": null,
      "outputs": []
    },
    {
      "cell_type": "markdown",
      "metadata": {
        "id": "QMlUzOq0oAI5"
      },
      "source": [
        "### Задача 1\n",
        "Есть список a = [1, 1, 2, 3, 5, 8, 13, 21, 34, 55, 89].\n",
        "\n",
        "Выведите все элементы, которые меньше 5."
      ]
    },
    {
      "cell_type": "code",
      "metadata": {
        "id": "rwJIfKOdnfGW",
        "colab": {
          "base_uri": "https://localhost:8080/"
        },
        "outputId": "1935ed21-a0b3-4960-8629-dfb552a1d5e8"
      },
      "source": [
        "a = [1, 1, 2, 3, 5, 8, 13, 21, 34, 55, 89]\n",
        "for i in a:\n",
        "  if i < 5:\n",
        "    print(i)\n"
      ],
      "execution_count": null,
      "outputs": [
        {
          "output_type": "stream",
          "text": [
            "1\n",
            "1\n",
            "2\n",
            "3\n"
          ],
          "name": "stdout"
        }
      ]
    },
    {
      "cell_type": "markdown",
      "metadata": {
        "id": "0PxuwdtZoB9-"
      },
      "source": [
        "### Задача 2\n",
        "Даны списки:\n",
        "\n",
        "a = [1, 1, 2, 3, 5, 8, 13, 21, 34, 55, 89];\n",
        "\n",
        "b = [1, 2, 3, 4, 5, 6, 7, 8, 9, 10, 11, 12, 13].\n",
        "\n",
        "Нужно вернуть список, который состоит из элементов, общих для этих двух списков."
      ]
    },
    {
      "cell_type": "code",
      "metadata": {
        "id": "wjOkM2doWdax"
      },
      "source": [],
      "execution_count": null,
      "outputs": []
    },
    {
      "cell_type": "code",
      "metadata": {
        "id": "4I50aNmHROyq",
        "colab": {
          "base_uri": "https://localhost:8080/"
        },
        "outputId": "32306dbf-be6b-416f-f8e1-62800c8a7112"
      },
      "source": [
        "a = [1, 1, 2, 3, 5, 8, 13, 21, 34, 55, 89]\n",
        "b = [1, 2, 3, 4, 5, 6, 7, 8, 9, 10, 11, 12, 13]\n",
        "i, j = 0, 0\n",
        "c = sorted(a)\n",
        "d = sorted(b)\n",
        "while ((i < len(c)) and (j < len(d))):\n",
        "  if c[i] > d[j]:\n",
        "    j+=1\n",
        "  elif c[i] < d[j]:\n",
        "    i+=1\n",
        "  else:\n",
        "    print(c[i])\n",
        "    i+=1\n",
        "    j+=1\n",
        "\n",
        "\n",
        "\n",
        "\n"
      ],
      "execution_count": null,
      "outputs": [
        {
          "output_type": "stream",
          "text": [
            "1\n",
            "2\n",
            "3\n",
            "5\n",
            "8\n",
            "13\n"
          ],
          "name": "stdout"
        }
      ]
    },
    {
      "cell_type": "markdown",
      "metadata": {
        "id": "D-7vU_xMoGXW"
      },
      "source": [
        "### Задача 3\n",
        "Нужно вывести первые n строк [треугольника Паскаля](https://ru.wikipedia.org/wiki/%D0%A2%D1%80%D0%B5%D1%83%D0%B3%D0%BE%D0%BB%D1%8C%D0%BD%D0%B8%D0%BA_%D0%9F%D0%B0%D1%81%D0%BA%D0%B0%D0%BB%D1%8F). В этом треугольнике на вершине и по бокам стоят единицы, а каждое число внутри равно сумме двух расположенных над ним чисел. Вид треугольника можно не форматировать, т. е. просто выводить на печать строку из треугольника Паскаля."
      ]
    },
    {
      "cell_type": "code",
      "metadata": {
        "id": "VDcFSgAtS_kD",
        "colab": {
          "base_uri": "https://localhost:8080/"
        },
        "outputId": "13e13dc9-3c22-4ba5-f17c-9f88278906b2"
      },
      "source": [
        "n = int(input('Введите число строк '))"
      ],
      "execution_count": null,
      "outputs": [
        {
          "output_type": "stream",
          "text": [
            "Введите число строк 10\n"
          ],
          "name": "stdout"
        }
      ]
    },
    {
      "cell_type": "code",
      "metadata": {
        "id": "ORxlMF5XoHaf",
        "colab": {
          "base_uri": "https://localhost:8080/"
        },
        "outputId": "511880d1-434a-4de1-af86-81599c21bf9c"
      },
      "source": [
        "a = [1]\n",
        "for i in range(0, n):\n",
        "  print(a)\n",
        "  ao = a + [0]\n",
        "  oa = [0] + a\n",
        "  a = [ao[j] + oa[j] for j in range(len(ao))]\n",
        "\n",
        "\n"
      ],
      "execution_count": null,
      "outputs": [
        {
          "output_type": "stream",
          "text": [
            "[1]\n",
            "[1, 1]\n",
            "[1, 2, 1]\n",
            "[1, 3, 3, 1]\n",
            "[1, 4, 6, 4, 1]\n",
            "[1, 5, 10, 10, 5, 1]\n",
            "[1, 6, 15, 20, 15, 6, 1]\n",
            "[1, 7, 21, 35, 35, 21, 7, 1]\n",
            "[1, 8, 28, 56, 70, 56, 28, 8, 1]\n",
            "[1, 9, 36, 84, 126, 126, 84, 36, 9, 1]\n"
          ],
          "name": "stdout"
        }
      ]
    },
    {
      "cell_type": "markdown",
      "metadata": {
        "id": "LZFh27IYoH-M"
      },
      "source": [
        "### Задача 4\n",
        "Напишите проверку на то, является ли строка палиндромом. Палиндром — это слово или фраза, которые одинаково читаются слева направо и справа налево."
      ]
    },
    {
      "cell_type": "code",
      "metadata": {
        "id": "dbmC6TJNTERJ",
        "colab": {
          "base_uri": "https://localhost:8080/"
        },
        "outputId": "efb86cdc-9a2e-498a-c0e9-3f150e8b0d43"
      },
      "source": [
        "stroka = input('Введите строку для проверки: ')"
      ],
      "execution_count": null,
      "outputs": [
        {
          "output_type": "stream",
          "text": [
            "Введите строку для проверки: asddsa\n"
          ],
          "name": "stdout"
        }
      ]
    },
    {
      "cell_type": "code",
      "metadata": {
        "id": "g7lxAS0KoJEj",
        "colab": {
          "base_uri": "https://localhost:8080/"
        },
        "outputId": "5b068fdb-476b-4229-f1b9-623831949c82"
      },
      "source": [
        "akorts = stroka[::-1]\n",
        "if akorts == stroka:\n",
        "  print('yes')\n",
        "else:\n",
        "  print('no')\n"
      ],
      "execution_count": null,
      "outputs": [
        {
          "output_type": "stream",
          "text": [
            "yes\n"
          ],
          "name": "stdout"
        }
      ]
    },
    {
      "cell_type": "markdown",
      "metadata": {
        "id": "0dG5QsDnoJw4"
      },
      "source": [
        "### Задача 5\n",
        "Сделайте так, чтобы число секунд отображалось в виде дни:часы:минуты:секунды. (без использования datetime)"
      ]
    },
    {
      "cell_type": "code",
      "metadata": {
        "id": "riZL3l86TJ2Z",
        "colab": {
          "base_uri": "https://localhost:8080/"
        },
        "outputId": "92ed956f-9c3f-453b-b42b-d79cf4b770e4"
      },
      "source": [
        "seconds = int(input(\"Введите число секунд \"))"
      ],
      "execution_count": null,
      "outputs": [
        {
          "output_type": "stream",
          "text": [
            "Введите число секунд 56435435\n"
          ],
          "name": "stdout"
        }
      ]
    },
    {
      "cell_type": "code",
      "metadata": {
        "id": "hZ9eY7HsoKyd",
        "colab": {
          "base_uri": "https://localhost:8080/"
        },
        "outputId": "915cc0cf-ba3c-4943-eab3-e32b074abf25"
      },
      "source": [
        "d = seconds // 86400\n",
        "h = (seconds % 86400) // 3600\n",
        "m = (seconds % 3600) // 60\n",
        "s = seconds % 60\n",
        "print(d, h, m, s, sep=':')\n",
        "\n"
      ],
      "execution_count": null,
      "outputs": [
        {
          "output_type": "stream",
          "text": [
            "653:4:30:35\n"
          ],
          "name": "stdout"
        }
      ]
    },
    {
      "cell_type": "markdown",
      "metadata": {
        "id": "nBVW10zzoLN-"
      },
      "source": [
        "### Задача 6\n",
        "Вы принимаете от пользователя последовательность чисел, разделённых запятой. Составьте список и кортеж с этими числами."
      ]
    },
    {
      "cell_type": "code",
      "metadata": {
        "id": "Pzvbnwt1pCXf",
        "colab": {
          "base_uri": "https://localhost:8080/"
        },
        "outputId": "abc9bd4c-febf-436f-825f-cb1ffa59675c"
      },
      "source": [
        "sequence = input(\"введите значение\")"
      ],
      "execution_count": null,
      "outputs": [
        {
          "output_type": "stream",
          "text": [
            "введите значение5436,23452,234,234458,456,234\n"
          ],
          "name": "stdout"
        }
      ]
    },
    {
      "cell_type": "code",
      "metadata": {
        "id": "x--lqdQOoMSG",
        "colab": {
          "base_uri": "https://localhost:8080/"
        },
        "outputId": "2f274aa6-0564-42dc-e5ec-ff4dc17f838c"
      },
      "source": [
        "# ваш код тут\n",
        "print(list(map(int, sequence.split(','))))\n",
        "print(tuple(map(int, sequence.split(','))))"
      ],
      "execution_count": null,
      "outputs": [
        {
          "output_type": "stream",
          "text": [
            "[5436, 23452, 234, 234458, 456, 234]\n",
            "(5436, 23452, 234, 234458, 456, 234)\n"
          ],
          "name": "stdout"
        }
      ]
    },
    {
      "cell_type": "markdown",
      "metadata": {
        "id": "LX80ZS4VoMt_"
      },
      "source": [
        "### Задача 7\n",
        "Выведите первый и последний элемент списка, заполненного случайными целыми значениями в количестве N."
      ]
    },
    {
      "cell_type": "code",
      "metadata": {
        "id": "O16WVyH2TfRO",
        "colab": {
          "base_uri": "https://localhost:8080/"
        },
        "outputId": "34ea3a52-0bbc-4abd-e562-07767d5c9060"
      },
      "source": [
        "N = int(input())"
      ],
      "execution_count": null,
      "outputs": [
        {
          "output_type": "stream",
          "text": [
            "15\n"
          ],
          "name": "stdout"
        }
      ]
    },
    {
      "cell_type": "code",
      "metadata": {
        "id": "0pOygKC-oNjX",
        "colab": {
          "base_uri": "https://localhost:8080/"
        },
        "outputId": "56c93684-35ed-42c8-9ebb-8bb5e2f24ac5"
      },
      "source": [
        "mas = []\n",
        "for i in range(N):\n",
        "  mas.append(random.randint(0, 100))\n",
        "print(mas[0], mas[N-1])"
      ],
      "execution_count": null,
      "outputs": [
        {
          "output_type": "stream",
          "text": [
            "17 44\n"
          ],
          "name": "stdout"
        }
      ]
    },
    {
      "cell_type": "markdown",
      "metadata": {
        "id": "RONwF247oOGw"
      },
      "source": [
        "### Задача 8\n",
        "Напишите программу, которая принимает имя файла и выводит его расширение. Если расширение у файла определить невозможно, выводите \"нет расширения\"."
      ]
    },
    {
      "cell_type": "code",
      "metadata": {
        "id": "m7tSZ8_5mUCv",
        "colab": {
          "base_uri": "https://localhost:8080/"
        },
        "outputId": "a91bba4b-9b36-4a4d-8400-e0102d3208c2"
      },
      "source": [
        "filename = input('Введите имя файла')"
      ],
      "execution_count": null,
      "outputs": [
        {
          "output_type": "stream",
          "text": [
            "Введите имя файлаDjjsjs.txt\n"
          ],
          "name": "stdout"
        }
      ]
    },
    {
      "cell_type": "code",
      "metadata": {
        "id": "RaQs-j55m8U3",
        "colab": {
          "base_uri": "https://localhost:8080/"
        },
        "outputId": "179b018f-29cb-419d-9c59-187149cd1595"
      },
      "source": [
        "# тут случайно убрал ваш комментарий про то, что в if стоял только один знак равно\n",
        "# ошибку исправил, как вернуть комментарий, не знаю\n",
        "#\n",
        "\n",
        "a = filename.split('.')\n",
        "if len(a) == 1:\n",
        "  print('нет расширения')\n",
        "else:\n",
        "  print(a[1])"
      ],
      "execution_count": null,
      "outputs": [
        {
          "output_type": "stream",
          "text": [
            "txt\n"
          ],
          "name": "stdout"
        }
      ]
    },
    {
      "cell_type": "markdown",
      "metadata": {
        "id": "Imewfx3UphZG"
      },
      "source": [
        "### Задача 9\n",
        "Сложите цифры целого числа."
      ]
    },
    {
      "cell_type": "code",
      "metadata": {
        "id": "S0prYFkypjMD",
        "colab": {
          "base_uri": "https://localhost:8080/"
        },
        "outputId": "01e85c20-2535-4c38-c48e-1377e27b2501"
      },
      "source": [
        "# ваш код тут\n",
        "number = 12345\n",
        "\n",
        "s = 0\n",
        "while number // 1 != 0:\n",
        "    s += number % 10\n",
        "    number = number // 10\n",
        "\n",
        "\n",
        "print(s)"
      ],
      "execution_count": null,
      "outputs": [
        {
          "output_type": "stream",
          "text": [
            "15\n"
          ],
          "name": "stdout"
        }
      ]
    },
    {
      "cell_type": "markdown",
      "metadata": {
        "id": "tx0wApZupk05"
      },
      "source": [
        "### Задача 10\n",
        "Напишите программу, которая создает два списка случайных целых чисел размера 20 из отрезка [0, 30], выводит их на экран и все элементы первого, которых нет во втором."
      ]
    },
    {
      "cell_type": "code",
      "metadata": {
        "id": "MkC_sLdRpoG7",
        "colab": {
          "base_uri": "https://localhost:8080/"
        },
        "outputId": "eb1b1e8b-bef3-4c61-a287-2d0bb6c95337"
      },
      "source": [
        "a = [random.randint(0, 30) for i in range(20)]\n",
        "print(a)\n",
        "b = [random.randint(0, 30) for i in range(20)]\n",
        "print(b)\n",
        "f = [x for x in a if x not in b]\n",
        "print(f)\n",
        "\n"
      ],
      "execution_count": null,
      "outputs": [
        {
          "output_type": "stream",
          "text": [
            "[0, 15, 5, 15, 18, 4, 8, 17, 29, 18, 4, 26, 0, 5, 13, 11, 12, 0, 17, 27]\n",
            "[9, 12, 29, 7, 20, 6, 18, 28, 18, 12, 16, 27, 10, 11, 24, 20, 25, 1, 7, 22]\n",
            "[0, 15, 5, 15, 4, 8, 17, 4, 26, 0, 5, 13, 0, 17]\n"
          ],
          "name": "stdout"
        }
      ]
    },
    {
      "cell_type": "markdown",
      "metadata": {
        "id": "PO9NF3IBpoxz"
      },
      "source": [
        "### Задача 11\n",
        "Напишите программу, которая выводит чётные числа из списка, вводимого с клавиатуры и останавливается, если встречает число 237."
      ]
    },
    {
      "cell_type": "code",
      "metadata": {
        "id": "6pqgc99LprzC",
        "colab": {
          "base_uri": "https://localhost:8080/"
        },
        "outputId": "0de73946-55ee-4eac-9250-a85983407d2c"
      },
      "source": [
        "c = []\n",
        "while True:\n",
        "  a = input()\n",
        "  d = int(a)\n",
        "  if d % 2 == 0:\n",
        "    c.append(d)\n",
        "  if d == 237:\n",
        "    break\n",
        "print(c)\n"
      ],
      "execution_count": null,
      "outputs": [
        {
          "output_type": "stream",
          "text": [
            "15\n",
            "4\n",
            "2\n",
            "237\n",
            "[4, 2]\n"
          ],
          "name": "stdout"
        }
      ]
    },
    {
      "cell_type": "markdown",
      "metadata": {
        "id": "0lMCVueRpsae"
      },
      "source": [
        "### Задача 12\n",
        "Посчитайте, сколько раз символ встречается в строке."
      ]
    },
    {
      "cell_type": "code",
      "metadata": {
        "id": "u-x80kjLQIVg",
        "colab": {
          "base_uri": "https://localhost:8080/"
        },
        "outputId": "d828fd8c-1c12-42ea-c377-b3c8ebb37504"
      },
      "source": [
        "string = input('Введите строку')\n",
        "simbol = input('Введите символ')"
      ],
      "execution_count": null,
      "outputs": [
        {
          "output_type": "stream",
          "text": [
            "Введите строкуihlkgyulfuy\n",
            "Введите символl\n"
          ],
          "name": "stdout"
        }
      ]
    },
    {
      "cell_type": "code",
      "metadata": {
        "id": "L26W_dlNpxBL",
        "colab": {
          "base_uri": "https://localhost:8080/"
        },
        "outputId": "272eca2b-e389-4c99-f59d-0ca0d7492993"
      },
      "source": [
        "s = string.count(simbol)\n",
        "print(s)\n"
      ],
      "execution_count": null,
      "outputs": [
        {
          "output_type": "stream",
          "text": [
            "2\n"
          ],
          "name": "stdout"
        }
      ]
    },
    {
      "cell_type": "markdown",
      "metadata": {
        "id": "FF0C3-cTp0uy"
      },
      "source": [
        "### Задача 13\n",
        "Поменяйте значения переменных местами."
      ]
    },
    {
      "cell_type": "code",
      "metadata": {
        "id": "KRHJfO1dcwNr",
        "colab": {
          "base_uri": "https://localhost:8080/"
        },
        "outputId": "0c327ef5-9cb6-4762-a751-fd8ae56689a2"
      },
      "source": [
        "var1 = input()\n",
        "var2 = input()"
      ],
      "execution_count": null,
      "outputs": [
        {
          "output_type": "stream",
          "text": [
            "5\n",
            "1\n"
          ],
          "name": "stdout"
        }
      ]
    },
    {
      "cell_type": "code",
      "metadata": {
        "id": "1BLkWTA5p2FZ",
        "colab": {
          "base_uri": "https://localhost:8080/"
        },
        "outputId": "feae9e5a-d0e0-4690-b3bc-29c0a6c9b8bd"
      },
      "source": [
        "var1, var2 = var2, var1\n",
        "print(var1, var2)"
      ],
      "execution_count": null,
      "outputs": [
        {
          "output_type": "stream",
          "text": [
            "1 5\n"
          ],
          "name": "stdout"
        }
      ]
    },
    {
      "cell_type": "markdown",
      "metadata": {
        "id": "I2x5B2_Np9kO"
      },
      "source": [
        "### Задача 14\n",
        "Нужно проверить, все ли числа в последовательности уникальны. Последовательность состоит из целых чисел. Числа вводятся с клавиатуры. Концом ввода служит символ #."
      ]
    },
    {
      "cell_type": "code",
      "metadata": {
        "id": "gsiB8H61p_Bb",
        "colab": {
          "base_uri": "https://localhost:8080/"
        },
        "outputId": "3b81d909-16de-4faa-8dd8-ffc87a0edfdb"
      },
      "source": [
        "c = []\n",
        "d = 0\n",
        "while True:\n",
        "  a = input()\n",
        "  if a in c:\n",
        "    d += 1\n",
        "  c.append(a)\n",
        "  if a == '#':\n",
        "    break\n",
        "if d == 0:\n",
        "  print('yes')\n",
        "else:\n",
        "  print('no')"
      ],
      "execution_count": null,
      "outputs": [
        {
          "output_type": "stream",
          "text": [
            "1\n",
            "2\n",
            "3\n",
            "1\n",
            "2\n",
            "#\n",
            "no\n"
          ],
          "name": "stdout"
        }
      ]
    },
    {
      "cell_type": "markdown",
      "metadata": {
        "id": "hiPumXgoZtPS"
      },
      "source": [
        "### Задача 15\n",
        "\n",
        "Найдите, истинно ли, что 2 в 10 степени больше 1000 при условии, что 4 в 7й степени меньше 8 в 5й."
      ]
    },
    {
      "cell_type": "code",
      "metadata": {
        "id": "1Jp2fm0jaChM"
      },
      "source": [
        "# не понимаю условия задачи"
      ],
      "execution_count": null,
      "outputs": []
    },
    {
      "cell_type": "markdown",
      "metadata": {
        "id": "wIXXdtGdaMhF"
      },
      "source": [
        "### Задача 16\n",
        "\n",
        "Найдите площадь круга. Число π взять из модуля math."
      ]
    },
    {
      "cell_type": "code",
      "metadata": {
        "id": "QGSPfMB-anqX",
        "colab": {
          "base_uri": "https://localhost:8080/"
        },
        "outputId": "a8ac59eb-e00d-464e-81c5-8538bfd985cc"
      },
      "source": [
        "r = float(input())"
      ],
      "execution_count": null,
      "outputs": [
        {
          "output_type": "stream",
          "text": [
            "24\n"
          ],
          "name": "stdout"
        }
      ]
    },
    {
      "cell_type": "code",
      "metadata": {
        "id": "QJnTZpU3abw7",
        "colab": {
          "base_uri": "https://localhost:8080/"
        },
        "outputId": "1b8c5610-d472-44a4-9bfb-5ddf1771c0c7"
      },
      "source": [
        "s = math.pi * r**2\n",
        "s"
      ],
      "execution_count": null,
      "outputs": [
        {
          "output_type": "execute_result",
          "data": {
            "text/plain": [
              "1809.5573684677208"
            ]
          },
          "metadata": {
            "tags": []
          },
          "execution_count": 13
        }
      ]
    },
    {
      "cell_type": "markdown",
      "metadata": {
        "id": "Dj3SgDdLahaZ"
      },
      "source": [
        "### Задача 17\n",
        "\n",
        "Мы принимаем целое число на ввод с клавиатуры (код предоставлен), вывести \"цена выше рынка\", если число выше 1200, \"цена ниже рыночной\", если число меньше 800 и \"все ок\" в остальных случаях. Если введено не число, то выводить \"вы ввели не число\"."
      ]
    },
    {
      "cell_type": "code",
      "metadata": {
        "id": "jVi685NrawKc",
        "colab": {
          "base_uri": "https://localhost:8080/"
        },
        "outputId": "ef0dd957-fe26-4f44-8510-f89d020323be"
      },
      "source": [
        "c = input()\n",
        "\n",
        "if c.isdigit():\n",
        "  d = int(c)\n",
        "  if d > 1200:\n",
        "    print('цена выше рынка')\n",
        "  elif d < 800:\n",
        "    print('цена ниже рыночной')\n",
        "  else:\n",
        "    print('все ок')\n",
        "else:\n",
        "  print('вы ввели не число')\n",
        "\n"
      ],
      "execution_count": null,
      "outputs": [
        {
          "output_type": "stream",
          "text": [
            "иппр\n",
            "вы ввели не число\n"
          ],
          "name": "stdout"
        }
      ]
    },
    {
      "cell_type": "markdown",
      "metadata": {
        "id": "bSkROdzbbDPT"
      },
      "source": [
        "### Задача 18\n",
        "\n",
        "Создайте переменную, которая хранит описание этой задачи как строку, разделите слова по пробелам и приведите к нижнему регистру."
      ]
    },
    {
      "cell_type": "code",
      "metadata": {
        "id": "QLQuRJ5fbHyG",
        "colab": {
          "base_uri": "https://localhost:8080/"
        },
        "outputId": "8f49a6a1-845d-418a-c3b6-b5d9ee74a26d"
      },
      "source": [
        "s = 'Создайте переменную, которая хранит описание этой задачи как строку, разделите слова по пробелам и приведите к нижнему регистру.'\n",
        "c = s.split(' ')\n",
        "c = [x.lower() for x in c]\n",
        "c\n",
        "\n",
        "\n"
      ],
      "execution_count": null,
      "outputs": [
        {
          "output_type": "execute_result",
          "data": {
            "text/plain": [
              "['создайте',\n",
              " 'переменную,',\n",
              " 'которая',\n",
              " 'хранит',\n",
              " 'описание',\n",
              " 'этой',\n",
              " 'задачи',\n",
              " 'как',\n",
              " 'строку,',\n",
              " 'разделите',\n",
              " 'слова',\n",
              " 'по',\n",
              " 'пробелам',\n",
              " 'и',\n",
              " 'приведите',\n",
              " 'к',\n",
              " 'нижнему',\n",
              " 'регистру.']"
            ]
          },
          "metadata": {
            "tags": []
          },
          "execution_count": 16
        }
      ]
    },
    {
      "cell_type": "markdown",
      "metadata": {
        "id": "xDwSLToobQIJ"
      },
      "source": [
        "### Задача 19\n",
        "\n",
        "Напишите код, который проверяет, является ли переменная x строкой, и если да, то если в строке больше одного слова (слово - последовательность подряд идущих символов без пробелов), то выводит на экран количество слов в этой строке и сами слова в алфавитном порядке."
      ]
    },
    {
      "cell_type": "code",
      "metadata": {
        "id": "QqEMRS9NbST0"
      },
      "source": [
        "# ваш код тут"
      ],
      "execution_count": null,
      "outputs": []
    },
    {
      "cell_type": "markdown",
      "metadata": {
        "id": "rO-Amdrhbfc5"
      },
      "source": [
        "### Задача 20\n",
        "\n",
        "Напишите код, который все элементы списка lst с **нечетными** индексами переставит в обратном порядке.\n",
        "\n",
        "Т.е. если x = [0, 1, 2, 3, 4, 5, 6, 7, 8, 9], то код должен получать [0, 9, 2, 7, 4, 5, 6, 3, 8, 1]"
      ]
    },
    {
      "cell_type": "code",
      "metadata": {
        "id": "e3SdQqGLbnI9",
        "colab": {
          "base_uri": "https://localhost:8080/"
        },
        "outputId": "6ef2b45c-eed6-4b95-d829-2d45023f76dd"
      },
      "source": [
        "x = [0, 1, 2, 3, 4, 5, 6, 7, 8, 9, 10, 11, 12, 13, 14]\n",
        "if len(x) % 2 != 0:\n",
        "  l = len(x) - 1\n",
        "else:\n",
        "  l = len(x)\n",
        "c = []\n",
        "for i in range(len(x)):\n",
        "  if i % 2 == 0:\n",
        "    c.append(x[i])\n",
        "  else:\n",
        "    c.append(x[l-i])\n",
        "print(c)\n",
        "\n",
        "\n"
      ],
      "execution_count": null,
      "outputs": [
        {
          "output_type": "stream",
          "text": [
            "[0, 13, 2, 11, 4, 9, 6, 7, 8, 5, 10, 3, 12, 1, 14]\n"
          ],
          "name": "stdout"
        }
      ]
    },
    {
      "cell_type": "markdown",
      "metadata": {
        "id": "3drnI-SNbxoe"
      },
      "source": [
        "## Часть 2. Pythontutor.ru"
      ]
    },
    {
      "cell_type": "markdown",
      "metadata": {
        "id": "LHLoZg43cEks"
      },
      "source": [
        "Зарегистрироваться на сайте http://pythontutor.ru/ и решить по 5 любых задач на выбор в каждой из первых 7 тем. То есть в каждой из тем:\n",
        "\n",
        "- Занятие 1. Ввод и вывод данных\n",
        "- Занятие 2. Условия\n",
        "- Занятие 3. Вычисления\n",
        "- Занятие 4. Цикл for\n",
        "- Занятие 5. Строки\n",
        "- Занятие 6. Цикл while\n",
        "- Занятие 7. Списки\n",
        "\n",
        "Нужно решить по 5 задач на выбор. Всего не менее 35 задач.\n",
        "Решаете задачи на сайте http://pythontutor.ru/ в браузере под своим логином.\n",
        "\n",
        "Когда решите задачи, делаете скриншот числа решенных задач по каждой теме в личном кабинете. Скриншот прикрепляете в классрум, как описано в обучающей инструкции."
      ]
    },
    {
      "cell_type": "code",
      "metadata": {
        "id": "zlHDVCv0cipk"
      },
      "source": [],
      "execution_count": null,
      "outputs": []
    }
  ]
}