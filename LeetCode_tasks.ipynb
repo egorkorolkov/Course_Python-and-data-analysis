{
  "nbformat": 4,
  "nbformat_minor": 0,
  "metadata": {
    "colab": {
      "provenance": [],
      "toc_visible": true,
      "authorship_tag": "ABX9TyMHHaGvQoO/TDak3qADY1X1",
      "include_colab_link": true
    },
    "kernelspec": {
      "name": "python3",
      "display_name": "Python 3"
    },
    "language_info": {
      "name": "python"
    }
  },
  "cells": [
    {
      "cell_type": "markdown",
      "metadata": {
        "id": "view-in-github",
        "colab_type": "text"
      },
      "source": [
        "<a href=\"https://colab.research.google.com/github/egorkorolkov/Course_Python-and-data-analysis/blob/main/LeetCode_tasks.ipynb\" target=\"_parent\"><img src=\"https://colab.research.google.com/assets/colab-badge.svg\" alt=\"Open In Colab\"/></a>"
      ]
    },
    {
      "cell_type": "markdown",
      "source": [
        "# Объединить два отсортированных массива\n",
        "Вам даны два целочисленных массива nums1 и nums2, отсортированные в порядке неубывания, и два целых числа m и n, представляющие количество элементов в nums1 и nums2 соответственно.\n",
        "\n",
        "Объедините nums1 и nums2 в один массив, отсортированный в неубывающем порядке."
      ],
      "metadata": {
        "id": "-Px8Hxb2X4Pf"
      }
    },
    {
      "cell_type": "code",
      "source": [
        "def merge(nums1: list[int], m: int, nums2: list[int], n: int) -> None:\n",
        "        \"\"\"\n",
        "        Do not return anything, modify nums1 in-place instead.\n",
        "        \"\"\"\n",
        "        p1, p2 = m-1, n-1\n",
        "        k = m + n - 1\n",
        "        while p2 >= 0:\n",
        "            if nums1[p1] >= nums2[p2] and p1 >= 0:\n",
        "                nums1[k] = nums1[p1]\n",
        "                k -= 1\n",
        "                p1 -= 1\n",
        "            else:\n",
        "                nums1[k] = nums2[p2]\n",
        "                k -= 1\n",
        "                p2 -= 1"
      ],
      "metadata": {
        "id": "i8K4a7QFOmXM"
      },
      "execution_count": null,
      "outputs": []
    },
    {
      "cell_type": "markdown",
      "source": [
        "# Объединить K отсортированных односвязных списков\n",
        "\n"
      ],
      "metadata": {
        "id": "9XPZGz0bfj8R"
      }
    },
    {
      "cell_type": "code",
      "source": [
        "class Solution:\n",
        "    def mergeKLists(self, lists: list[ListNode]) -> ListNode:\n",
        "        if not lists:\n",
        "            return None\n",
        "        if len(lists) == 1:\n",
        "            return lists[0]\n",
        "\n",
        "        mid = len(lists) // 2\n",
        "        left = self.mergeKLists(lists[:mid])\n",
        "        right = self.mergeKLists(lists[mid:])\n",
        "\n",
        "        return self.merge(left, right)\n",
        "\n",
        "    def merge(self, l1, l2):\n",
        "        dummy = ListNode(0)\n",
        "        curr = dummy\n",
        "\n",
        "        while l1 and l2:\n",
        "            if l1.val < l2.val:\n",
        "                curr.next = l1\n",
        "                l1 = l1.next\n",
        "            else:\n",
        "                curr.next = l2\n",
        "                l2 = l2.next\n",
        "            curr = curr.next\n",
        "\n",
        "        curr.next = l1 or l2\n",
        "\n",
        "        return dummy.next"
      ],
      "metadata": {
        "id": "aVt6-0tmf7lJ"
      },
      "execution_count": null,
      "outputs": []
    },
    {
      "cell_type": "markdown",
      "source": [
        "# Удалить элемент из массива\n",
        "Дан целочисленный массив nums и целочисленное значение, удалите все вхождения val в nums in-place. Порядок элементов может быть изменен. Затем верните количество элементов, которые не равны val.\n",
        "\n",
        "Пусть количество элементов в nums, которые не равны val, равно k. Чтобы вас приняли, вам необходимо сделать следующее:\n",
        "\n",
        "Измените массив nums так, чтобы первые k элементов nums содержали элементы, не равные val. Остальные элементы nums не важны, как и размер nums.\n",
        "Вернуть k."
      ],
      "metadata": {
        "id": "iKrxIgUqYopK"
      }
    },
    {
      "cell_type": "code",
      "source": [
        "def removeElement(nums: list[int], val: int) -> int:\n",
        "    spot_to_replace = 0\n",
        "    for i in range(len(nums)):\n",
        "        if nums[i] != val:\n",
        "            nums[spot_to_replace] = nums[i]\n",
        "            spot_to_replace += 1\n",
        "    return spot_to_replace\n",
        "\n"
      ],
      "metadata": {
        "id": "0EOGm34RYn_w"
      },
      "execution_count": null,
      "outputs": []
    },
    {
      "cell_type": "markdown",
      "source": [
        "# Удалить дубликаты из массива\n",
        "Дан целочисленный массив чисел, отсортированный в неубывающем порядке, удалите дубликаты так, чтобы каждый уникальный элемент появлялся только один раз. Относительный порядок элементов должен оставаться неизменным. Затем верните количество уникальных элементов.\n",
        "\n",
        "Считайте, что количество уникальных элементов чисел равно k. Чтобы вас приняли, вам необходимо сделать следующее:\n",
        "\n",
        "Измените массив nums так, чтобы первые k элементов nums содержали уникальные элементы в том порядке, в котором они присутствовали в nums изначально. Остальные элементы nums не важны, как и размер nums.\n",
        "Вернуть К."
      ],
      "metadata": {
        "id": "9zGUQS6Urs7V"
      }
    },
    {
      "cell_type": "code",
      "source": [
        "def removeDuplicates_1(nums: list[int]) -> int:\n",
        "    # k = len(set(nums))\n",
        "    ind = 0\n",
        "    val = 'shit'\n",
        "    for i in range(len(nums)):\n",
        "        if nums[i] != val:\n",
        "            nums[ind] = nums[i]\n",
        "            ind += 1\n",
        "            val = nums[i]\n",
        "\n",
        "    return ind"
      ],
      "metadata": {
        "id": "5iyHOdy5rsY9"
      },
      "execution_count": null,
      "outputs": []
    },
    {
      "cell_type": "markdown",
      "source": [
        "Дан целочисленный массив чисел, отсортированный в неубывающем порядке, удалите дубликаты так, чтобы каждый уникальный элемент появлялся максимум дважды. Относительный порядок элементов должен оставаться неизменным. Затем верните количество получившихся элементов.\n"
      ],
      "metadata": {
        "id": "iyROj2aYxnRV"
      }
    },
    {
      "cell_type": "code",
      "source": [
        "def removeDuplicates_2(nums: list[int]) -> int:\n",
        "    ind = 0\n",
        "    val = 'shit'\n",
        "    count = 1 # счетчик вхождений одного числа\n",
        "    for i in range(len(nums)):\n",
        "        if nums[i] != val:\n",
        "            nums[ind] = nums[i]\n",
        "            ind += 1\n",
        "            val = nums[i]\n",
        "            count = 1\n",
        "        elif nums[i] == val and count == 1:\n",
        "            nums[ind] = nums[i]\n",
        "            ind += 1\n",
        "            count += 1\n",
        "\n",
        "    return ind"
      ],
      "metadata": {
        "id": "M9-y94Y4Omg3"
      },
      "execution_count": null,
      "outputs": []
    },
    {
      "cell_type": "markdown",
      "source": [
        "# Наиболее часто встречающийся элемент\n",
        "Дан массив nums размера n, верните мажоритарный элемент.\n",
        "\n",
        "Мажоритарным элементом является элемент, который появляется более ⌊n / 2⌋ раз. Вы можете предположить, что элемент большинства всегда существует в массиве."
      ],
      "metadata": {
        "id": "I1_N61gO3CR9"
      }
    },
    {
      "cell_type": "code",
      "source": [
        "def majorityElement(nums: list[int]) -> int:\n",
        "    count = 0\n",
        "    candidate = 'shit'\n",
        "    for i in range(len(nums)):\n",
        "        print(f'candidate = {candidate}, count = {count}')\n",
        "        if count == 0:\n",
        "            candidate = nums[i]\n",
        "            count += 1\n",
        "        elif candidate == nums[i]:\n",
        "            count += 1\n",
        "        elif candidate != nums[i]:\n",
        "            count -= 1\n",
        "\n",
        "    return candidate"
      ],
      "metadata": {
        "id": "OXdL59-4Omlw"
      },
      "execution_count": null,
      "outputs": []
    },
    {
      "cell_type": "markdown",
      "source": [
        "# Циклическая перестановка массива\n",
        "Сделать циклическую перестановку массива на k шагов."
      ],
      "metadata": {
        "id": "Zn6NOMmo9stV"
      }
    },
    {
      "cell_type": "code",
      "source": [
        "def rotate(nums: list[int], k: int) -> None:\n",
        "    \"\"\"\n",
        "    Do not return anything, modify nums in-place instead.\n",
        "    \"\"\"\n",
        "    def reverse(arr, left, right):\n",
        "        while left < right:\n",
        "            arr[left], arr[right] = arr[right], arr[left]\n",
        "            left += 1\n",
        "            right -= 1\n",
        "    k = k % len(nums)\n",
        "    reverse(nums, 0, len(nums) - 1) # переворачиваем весь массив\n",
        "    reverse(nums, 0, k - 1) # переворачиваем первые k элементов\n",
        "    reverse(nums, k, len(nums) - 1) # переворачиваем последние n - k элементов\n"
      ],
      "metadata": {
        "id": "DuLd2KZG9sFi"
      },
      "execution_count": null,
      "outputs": []
    },
    {
      "cell_type": "markdown",
      "source": [
        "# Максимизация прибыли\n",
        "Вам дан массив цен, где prices[i] — это цена данной акции на i-й день.\n",
        "\n",
        "Вы хотите максимизировать свою прибыль, выбрав один день для покупки одной акции и выбрав другой день в будущем для продажи этой акции.\n",
        "\n",
        "Верните максимальную прибыль, которую вы можете получить от этой сделки. Если вы не можете получить прибыль, верните 0."
      ],
      "metadata": {
        "id": "_kyncXV-KNdq"
      }
    },
    {
      "cell_type": "code",
      "source": [
        "def maxProfit1(prices: list[int]) -> int:\n",
        "    l = 0\n",
        "    r = 1\n",
        "    max_profit = 0\n",
        "\n",
        "    while r < len(prices):\n",
        "        if prices[l] > prices[r]:\n",
        "            l = r\n",
        "        else:\n",
        "            max_profit = max(prices[r] - prices[l], max_profit)\n",
        "        r += 1\n",
        "    return max_profit"
      ],
      "metadata": {
        "id": "cyavuvbVOnZn"
      },
      "execution_count": null,
      "outputs": []
    },
    {
      "cell_type": "markdown",
      "source": [
        "Если можно покупать и продавать несколько раз, но чтобы на руках была ровно одна акция."
      ],
      "metadata": {
        "id": "KxzT4AoFU64I"
      }
    },
    {
      "cell_type": "code",
      "source": [
        "# Получать выигрыш можно только когда в следующий день акция дороже, чем в текущий. Поэтому просто считаем выигрыши и суммируем их.\n",
        "\n",
        "def maxProfit2(prices: list[int]) -> int:\n",
        "    res = 0\n",
        "    for i in range(1,len(prices)):\n",
        "        if (prices[i] > prices[i-1]):\n",
        "            res += prices[i] - prices[i-1]\n",
        "    return res"
      ],
      "metadata": {
        "id": "VM0BqAWwU41D"
      },
      "execution_count": null,
      "outputs": []
    },
    {
      "cell_type": "markdown",
      "source": [
        "# Допрыгать до конца\n",
        "Вам дан целочисленный массив чисел. Изначально вы находитесь в первом индексе массива, и каждый элемент массива представляет максимальную длину прыжка в этой позиции.\n",
        "\n",
        "Возвращайте true, если вы можете достичь последнего индекса, или false в противном случае."
      ],
      "metadata": {
        "id": "ZvtaMbOL4ETD"
      }
    },
    {
      "cell_type": "code",
      "source": [
        "def canJump(nums: list[int]) -> bool:\n",
        "    gasoline = 0\n",
        "    for i in range(len(nums)):\n",
        "        if gasoline == 0 and nums[i] <= 0 and i < len(nums) - 1:\n",
        "            return False\n",
        "        if nums[i] >= gasoline:\n",
        "            gasoline = nums[i]\n",
        "        gasoline -= 1\n",
        "    return True"
      ],
      "metadata": {
        "id": "cqoxym274Djy"
      },
      "execution_count": null,
      "outputs": []
    },
    {
      "cell_type": "markdown",
      "source": [
        "Теперь достичь конца всегда можно. Найти минимальное количество прыжков, за которое это можно сделать."
      ],
      "metadata": {
        "id": "W7JQMd1x-HeU"
      }
    },
    {
      "cell_type": "code",
      "source": [],
      "metadata": {
        "id": "q7B_unmIU1jC"
      },
      "execution_count": null,
      "outputs": []
    },
    {
      "cell_type": "markdown",
      "source": [
        "# Получить отсортированный массив квадратов\n",
        "Дан массив целых чисел, упорядоченных по возрастанию. Написать функцию, которая из этого массива получит массив квадратов этих чисел, упорядоченный по возрастанию."
      ],
      "metadata": {
        "id": "8xvvHu34HbPH"
      }
    },
    {
      "cell_type": "code",
      "source": [
        "def sortedSquares(nums: list[int]) -> list[int]:\n",
        "    res = []\n",
        "    l = 0\n",
        "    r = len(nums) - 1\n",
        "    for _ in range(len(nums)):\n",
        "        if abs(nums[l]) >= abs(nums[r]):\n",
        "            res.append(nums[l] ** 2)\n",
        "            l += 1\n",
        "        else:\n",
        "            res.append(nums[r] ** 2)\n",
        "            r -= 1\n",
        "    # получили массив квадратов, отсортированный по убыванию\n",
        "\n",
        "    return res[::-1]\n",
        "\n"
      ],
      "metadata": {
        "id": "MBdM_qb3VrX0"
      },
      "execution_count": null,
      "outputs": []
    },
    {
      "cell_type": "markdown",
      "source": [
        "# Перевести римские числа в нормальные"
      ],
      "metadata": {
        "id": "nN5ycKrm2Mxt"
      }
    },
    {
      "cell_type": "code",
      "source": [
        "def romanToInt(s: str) -> int:\n",
        "    char_to_int = {\n",
        "        'I': 1,\n",
        "        'V': 5,\n",
        "        'X': 10,\n",
        "        'L': 50,\n",
        "        'C': 100,\n",
        "        'D': 500,\n",
        "        'M': 1000\n",
        "    }\n",
        "    res = 0\n",
        "    for i in range(len(s) - 1):\n",
        "        if char_to_int[s[i]] >= char_to_int[s[i + 1]]:\n",
        "            res += char_to_int[s[i]]\n",
        "        else:\n",
        "            res -= char_to_int[s[i]]\n",
        "    return res + char_to_int[s[-1]]"
      ],
      "metadata": {
        "id": "p7HEJ-kWVrSH"
      },
      "execution_count": null,
      "outputs": []
    },
    {
      "cell_type": "markdown",
      "source": [
        "# Длина последнего слова в строке\n",
        "Дана строка s, состоящая из слов и пробелов, верните длину последнего слова в строке.\n",
        "\n",
        "\n"
      ],
      "metadata": {
        "id": "ch6sz8fJ7O-A"
      }
    },
    {
      "cell_type": "code",
      "source": [
        "def lengthOfLastWord(s: str) -> int:\n",
        "    str_words = s.split()\n",
        "    return len(str_words[-1])"
      ],
      "metadata": {
        "id": "2oPENUGe7WS6"
      },
      "execution_count": null,
      "outputs": []
    },
    {
      "cell_type": "markdown",
      "source": [
        "# Является ли фраза палиндромом"
      ],
      "metadata": {
        "id": "SLfZ6RJ49MRo"
      }
    },
    {
      "cell_type": "code",
      "source": [
        "def isPalindrome(s: str) -> bool:\n",
        "    l = 0\n",
        "    r = len(s) - 1\n",
        "    while l < r:\n",
        "        if s[l].isalnum() and s[r].isalnum() and s[l].lower() == s[r].lower():\n",
        "            r -= 1\n",
        "            l += 1\n",
        "        elif not s[l].isalnum():\n",
        "            l += 1\n",
        "        elif not s[r].isalnum():\n",
        "            r -= 1\n",
        "        else:\n",
        "            return False\n",
        "    return True"
      ],
      "metadata": {
        "id": "VksGnOqf7w-w"
      },
      "execution_count": null,
      "outputs": []
    },
    {
      "cell_type": "markdown",
      "source": [
        "# Является ли односвязный список палиндромом\n",
        "Дана голова односвязного списка, верните true, если он является\n",
        "палиндромом или false в противном случае.\n",
        "\n",
        "Could you do it in O(n) time and O(1) space?"
      ],
      "metadata": {
        "id": "IPWDWWwKgVKF"
      }
    },
    {
      "cell_type": "code",
      "source": [
        "def isPalindrome(head):\n",
        "    slow, fast, prev = head, head, None\n",
        "    # fast движется в 2 раза быстрее, чем slow\n",
        "    while fast and fast.next:\n",
        "        slow, fast = slow.next, fast.next.next\n",
        "    # fast дошел до конца, slow - до середины\n",
        "\n",
        "    # дальше разворачиваем вторую половину списка, чтобы указатели смотрели на предыдущий элемент\n",
        "    prev, slow, prev.next = slow, slow.next, None\n",
        "    while slow:\n",
        "        slow.next, prev, slow = prev, slow, slow.next\n",
        "    # начинаем идти с обоих концов, сравнивая значения\n",
        "    fast, slow = head, prev\n",
        "    while slow:\n",
        "        if fast.val != slow.val:\n",
        "            return False\n",
        "        fast, slow = fast.next, slow.next\n",
        "    return True"
      ],
      "metadata": {
        "id": "Nn9v-0vzgUdp"
      },
      "execution_count": null,
      "outputs": []
    },
    {
      "cell_type": "markdown",
      "source": [
        "# Сгенерировать список чисел с последовательными цифрами\n",
        "Целое число имеет последовательные цифры тогда и только тогда, когда каждая цифра в нем на одну больше предыдущей.\n",
        "\n",
        "Вернуть отсортированный список всех целых чисел в диапазоне [low, high] включительно, имеющих последовательные цифры."
      ],
      "metadata": {
        "id": "aISySPLy51fm"
      }
    },
    {
      "cell_type": "code",
      "source": [
        "def sequentialDigits(low: int, high: int) -> list[int]:\n",
        "    string_of_numbers = '123456789'\n",
        "    result = []\n",
        "    for k in range(9):\n",
        "        for i in range(1, 10 - k):\n",
        "            number = int(string_of_numbers[k:k + i])\n",
        "            if (low <= number <= high):\n",
        "                result.append(number)\n",
        "    return sorted(result)"
      ],
      "metadata": {
        "id": "lgrBChAs50hE"
      },
      "execution_count": null,
      "outputs": []
    },
    {
      "cell_type": "markdown",
      "source": [
        "# Минимальное число из отсортированных массивов\n",
        "Даны два целых массива nums1 и nums2, отсортированных в неубывающем порядке, верните минимальное целое число, общее для обоих массивов. Если среди nums1 и nums2 нет общего целого числа, верните -1."
      ],
      "metadata": {
        "id": "9EDP1XtLAnm7"
      }
    },
    {
      "cell_type": "code",
      "source": [
        "def getCommon(nums1: list[int], nums2: list[int]) -> int:\n",
        "    p1 = p2 = 0\n",
        "    for _ in range(len(nums1) + len(nums2)):\n",
        "        if not (p1 < len(nums1) and p2 < len(nums2)):\n",
        "            return -1\n",
        "        if nums1[p1] > nums2[p2]:\n",
        "            p2 += 1\n",
        "        elif nums1[p1] < nums2[p2]:\n",
        "            p1 += 1\n",
        "        else:\n",
        "            return nums1[p1]\n",
        "    return -1\n"
      ],
      "metadata": {
        "id": "-6ZhcLeR7w4v"
      },
      "execution_count": null,
      "outputs": []
    },
    {
      "cell_type": "markdown",
      "source": [
        "# Прибавить единицы к подматрицам\n",
        "Вам дано натуральное число n, указывающее, что изначально у нас есть целочисленная матрица n x n, заполненная нулями.\n",
        "\n",
        "Вам также предоставляется запрос двумерного целочисленного массива. Для каждого query[i] = [row1i, col1i, row2i, col2i] необходимо выполнить следующую операцию:\n",
        "\n",
        "Добавьте 1 к каждому элементу подматрицы с верхним левым углом (row1i, col1i) и нижним правым углом (row2i, col2i). То есть добавьте 1 к mat[x][y] для всех row1i <= x <= row2i и col1i <= y <= col2i.\n",
        "Возвращайте матричный mat после выполнения каждого запроса."
      ],
      "metadata": {
        "id": "xgkFmTK9FUNx"
      }
    },
    {
      "cell_type": "code",
      "source": [
        "def rangeAddQueries(n: int, queries: list[list[int]]) -> list[list[int]]:\n",
        "    mat = [[0] * n for _ in range(n)]\n",
        "    for query in queries:\n",
        "        for i in range(query[0], query[2] + 1):\n",
        "            for j in range(query[1], query[3] + 1):\n",
        "                mat[i][j] += 1\n",
        "    return mat"
      ],
      "metadata": {
        "id": "UuCMfd527wzd"
      },
      "execution_count": null,
      "outputs": []
    },
    {
      "cell_type": "markdown",
      "source": [
        "# Являются ли строки анаграммами"
      ],
      "metadata": {
        "id": "j0AiDRKMK2ac"
      }
    },
    {
      "cell_type": "code",
      "source": [
        "def isAnagram(s: str, t: str) -> bool:\n",
        "    dict_s = {}\n",
        "    dict_t = {}\n",
        "    if len(s) != len(t):\n",
        "        return False\n",
        "    else:\n",
        "        for i in range(len(s)):\n",
        "            dict_s[s[i]] = dict_s.get(s[i], 0) + 1\n",
        "            dict_t[t[i]] = dict_t.get(t[i], 0) + 1\n",
        "    return dict_s == dict_t"
      ],
      "metadata": {
        "id": "acICVw-LK9sq"
      },
      "execution_count": null,
      "outputs": []
    },
    {
      "cell_type": "markdown",
      "source": [
        "# Правильные скобочные последовательности\n",
        "По натуральному числу n вывести все правильные скобочные последовательности длины 2n."
      ],
      "metadata": {
        "id": "Q7UhIeoFMGLh"
      }
    },
    {
      "cell_type": "code",
      "source": [
        "def generate(curr: str, opened: int, closed: int, n: int, result: list[str]):\n",
        "    if len(curr) == 2*n:\n",
        "        result.append(curr)\n",
        "        return\n",
        "    if opened < n:\n",
        "        generate(curr + '(', opened + 1, closed, n, result)\n",
        "    if closed < opened:\n",
        "        generate(curr + ')', opened, closed + 1, n, result)\n",
        "def parenSeq(n):\n",
        "    result = []\n",
        "    generate('', 0, 0, n, result)\n",
        "    return result"
      ],
      "metadata": {
        "id": "sbAl7yqQMF8S"
      },
      "execution_count": null,
      "outputs": []
    },
    {
      "cell_type": "markdown",
      "source": [
        "Проверить, является ли скобочная последовательность правильной."
      ],
      "metadata": {
        "id": "HyHKaKSKU9nq"
      }
    },
    {
      "cell_type": "code",
      "source": [
        "def isValid(s: str) -> bool:\n",
        "    stack = []\n",
        "    for c in s:\n",
        "        if c in '([{':\n",
        "            stack.append(c)\n",
        "        else: # смотрим последний элемент стека: если он \"совпадает\" с закрывающей скобкой, то удалаяем его, иначе - возвращаем False\n",
        "            if not stack or \\\n",
        "                (c == ')' and stack[-1] != '(') or \\\n",
        "                (c == '}' and stack[-1] != '{') or \\\n",
        "                (c == ']' and stack[-1] != '['):\n",
        "                return False\n",
        "            stack.pop()\n",
        "    return not stack # если стек пустой, то вернем True"
      ],
      "metadata": {
        "id": "69k-xDvaMEdr"
      },
      "execution_count": null,
      "outputs": []
    },
    {
      "cell_type": "markdown",
      "source": [
        "# Драгоценности и камни\n",
        "Вам строки jewels, представляющие типы камней, которые являются драгоценностями, и stones, представляющие камни, которые у вас есть. Каждый символ в stones - это тип камня, который у вас есть. Вы хотите узнать, сколько из имеющихся у вас камней также являются драгоценностями.\n",
        "\n",
        "Буквы чувствительны к регистру, поэтому \"a\" считается камнем другого типа, чем \"A\"."
      ],
      "metadata": {
        "id": "bv_V4V-Qe_6o"
      }
    },
    {
      "cell_type": "code",
      "source": [
        "def numJewelsInStones(jewels: str, stones: str) -> int:\n",
        "    set_jew = set(jewels)\n",
        "    count = 0\n",
        "    for st in stones:\n",
        "        if st in set_jew:\n",
        "            count += 1\n",
        "    return count"
      ],
      "metadata": {
        "id": "l_th1vYkZj-M"
      },
      "execution_count": null,
      "outputs": []
    },
    {
      "cell_type": "markdown",
      "source": [
        "# Сумма узлов бинарного дерева поиска\n",
        "Дан корневой узел двоичного дерева поиска и два целых числа low и high, верните сумму значений всех узлов со значением в диапазоне [low, high]."
      ],
      "metadata": {
        "id": "B_T-EdfWhm_r"
      }
    },
    {
      "cell_type": "code",
      "source": [
        "# Definition for a binary tree node.\n",
        "# class TreeNode:\n",
        "#     def __init__(self, val=0, left=None, right=None):\n",
        "#         self.val = val\n",
        "#         self.left = left\n",
        "#         self.right = right\n",
        "\n",
        "def rangeSumBST(root, low: int, high: int) -> int:\n",
        "    sum = 0\n",
        "    if not root:\n",
        "        return sum\n",
        "\n",
        "    if low <= root.val <= high:\n",
        "        sum += root.val\n",
        "\n",
        "    sum += rangeSumBST(root.left, low, high) # сумма в левом поддереве\n",
        "    sum += rangeSumBST(root.right, low, high) # сумма в правом поддереве\n",
        "    return sum"
      ],
      "metadata": {
        "id": "ocyKYf3JhlVW"
      },
      "execution_count": null,
      "outputs": []
    },
    {
      "cell_type": "markdown",
      "source": [
        "# Разбить строку на максимальное количество подстрок\n",
        "Вам дана строка s. Мы хотим разбить строку на как можно большее количество частей, чтобы каждая буква встречалась не более чем в одной части.\n",
        "\n",
        "Обратите внимание, что разбиение производится таким образом, чтобы после конкатенации всех частей по порядку получилась строка s.\n",
        "\n",
        "Верните список целых чисел, обозначающих размер этих частей."
      ],
      "metadata": {
        "id": "G1y7pThJpP5h"
      }
    },
    {
      "cell_type": "code",
      "source": [
        "def partitionLabels(s: str) -> list[int]:\n",
        "    current_len = 0\n",
        "    result = []\n",
        "    letter_last = {}\n",
        "    end = 0\n",
        "    for i in range(len(s)):\n",
        "        letter_last[s[i]] = i # словарь последного появления каждой буквы\n",
        "    for i in range(len(s)):\n",
        "        end = max(end, letter_last[s[i]])\n",
        "        current_len += 1\n",
        "        if i == end:\n",
        "            result.append(current_len)\n",
        "            current_len = 0\n",
        "    return result"
      ],
      "metadata": {
        "id": "Q32A8WEtZj4Z"
      },
      "execution_count": null,
      "outputs": []
    },
    {
      "cell_type": "markdown",
      "source": [
        "# Reverse words\n",
        "Дана строка s, измените порядок символов в каждом слове предложения, сохранив пробельные символы и начальный порядок слов."
      ],
      "metadata": {
        "id": "3BAa1yhlxmYD"
      }
    },
    {
      "cell_type": "code",
      "source": [
        "def reverseWords(s: str) -> str:\n",
        "    stack = []\n",
        "    res = ''\n",
        "    s += ' '\n",
        "    for i in range(len(s)):\n",
        "        if s[i] != ' ':\n",
        "            stack.append(s[i])\n",
        "        else:\n",
        "            while stack:\n",
        "                res += stack.pop()\n",
        "            res += ' '\n",
        "    return res[:-1]\n"
      ],
      "metadata": {
        "id": "tG7cHTf7wxhz"
      },
      "execution_count": null,
      "outputs": []
    },
    {
      "cell_type": "markdown",
      "source": [
        "# Пересечения отрезков из двух списков\n",
        "Вам даны два списка замкнутых интервалов, $firstList$ и $secondList$, где $firstList[i] = [start_i, end_i]$, а $secondList[j] = [start_j, end_j]$. Каждый список интервалов попарно расходится и находится в отсортированном порядке.\n",
        "\n",
        "Верните пересечение этих двух списков интервалов."
      ],
      "metadata": {
        "id": "C1XJSD9c1pmK"
      }
    },
    {
      "cell_type": "code",
      "source": [
        "def intervalIntersection(firstList: list[list[int]], secondList: list[list[int]]) -> list[list[int]]:\n",
        "    res = []\n",
        "    f = s = 0\n",
        "    while f < len(firstList) and s < len(secondList):\n",
        "        f0, f1 = firstList[f][0], firstList[f][1]\n",
        "        s0, s1 = secondList[s][0], secondList[s][1]\n",
        "        if f1 < s0:\n",
        "            f += 1\n",
        "        elif s1 < f0:\n",
        "            s += 1\n",
        "        else:\n",
        "            res.append([max(s0, f0), min(s1, f1)])\n",
        "            if f1 < s1:\n",
        "                f += 1\n",
        "            else:\n",
        "                s += 1\n",
        "    return res"
      ],
      "metadata": {
        "id": "e0L5dv22wxcT"
      },
      "execution_count": null,
      "outputs": []
    },
    {
      "cell_type": "markdown",
      "source": [
        "# Reversed Linked List\n",
        "Дана голова односвязного списка, разверните его и верните обратный список."
      ],
      "metadata": {
        "id": "bP9ZS9Bk76Ob"
      }
    },
    {
      "cell_type": "code",
      "source": [
        "# Definition for singly-linked list.\n",
        "# class ListNode:\n",
        "#     def __init__(self, val=0, next=None):\n",
        "#         self.val = val\n",
        "#         self.next = next\n",
        "\n",
        "def reverseList(head):\n",
        "    curr = head\n",
        "    prev = None\n",
        "    while curr:\n",
        "        next = curr.next\n",
        "        curr.next = prev\n",
        "        prev = curr\n",
        "        curr = next\n",
        "    return prev"
      ],
      "metadata": {
        "id": "7Q077jpH7M1V"
      },
      "execution_count": null,
      "outputs": []
    },
    {
      "cell_type": "markdown",
      "source": [
        "# Произведение всех чисел массива, кроме $i$-го\n",
        "Дан целочисленный массив nums, верните массив answer, такой, что answer[i] равен произведению всех элементов nums, кроме nums[i].\n",
        "\n",
        "Произведение любого префикса или суффикса nums гарантированно помещается в 32-битное целое число.\n",
        "\n",
        "Вы должны написать алгоритм, который выполняется за время O(n) и без использования операции деления."
      ],
      "metadata": {
        "id": "YVbjvJ63DrOm"
      }
    },
    {
      "cell_type": "code",
      "source": [
        "def productExceptSelf(nums: list[int]) -> list[int]:\n",
        "    n = len(nums)\n",
        "    pref = [1] * n\n",
        "    suff = [1] * n\n",
        "    for i in range(1, n):\n",
        "        pref[i] = pref[i - 1] * nums[i - 1]\n",
        "        suff[n - 1 - i] = suff[n - i] * nums[n - i]\n",
        "    result = []\n",
        "    for i in range(n):\n",
        "        result.append(pref[i] * suff[i])\n",
        "    return result"
      ],
      "metadata": {
        "id": "deeYohGU7Mxc"
      },
      "execution_count": null,
      "outputs": []
    },
    {
      "cell_type": "markdown",
      "source": [
        "# Сгруппировать анаграммы\n",
        "Дан массив строк strs, сгруппируйте анаграммы вместе. Вы можете вернуть ответ в любом порядке."
      ],
      "metadata": {
        "id": "Iso5e3ICN4I1"
      }
    },
    {
      "cell_type": "code",
      "source": [
        "def groupAnagrams(strs: list[str]) -> list[list[str]]:\n",
        "    masks = {}\n",
        "    for s in strs:\n",
        "        mask = [0]*26\n",
        "        mask_str = ''\n",
        "        for letter in s:\n",
        "            mask[ord(letter) - ord('a')] += 1 # получили массив с количеством вхождений каждой буквы\n",
        "            mask_str = str(mask) # ну это наглость)\n",
        "        # print(s, mask_str)\n",
        "        if mask_str in masks:\n",
        "            masks[mask_str].append(s)\n",
        "        else:\n",
        "            masks[mask_str] = [s]\n",
        "    result = []\n",
        "    for i in masks:\n",
        "        result.append(masks[i])\n",
        "    return result"
      ],
      "metadata": {
        "id": "KADZn1nG7Ms2"
      },
      "execution_count": null,
      "outputs": []
    },
    {
      "cell_type": "markdown",
      "source": [
        "# Найти все анаграммы строки в другой строке\n",
        "Даны две строки s и p, верните массив всех начальных индексов анаграмм строки p в s. Вы можете вернуть ответ в любом порядке.\n",
        "\n",
        "Анаграмма - это слово или фраза, образованная путем перестановки букв другого слова или фразы, обычно с использованием всех исходных букв ровно один раз."
      ],
      "metadata": {
        "id": "DEyUhbggLPps"
      }
    },
    {
      "cell_type": "code",
      "source": [
        "def findAnagrams(s: str, p: str) -> list[int]:\n",
        "    p_count = {}\n",
        "    len_s = len(s)\n",
        "    len_p = len(p)\n",
        "    result = []\n",
        "    for letter in p:\n",
        "        p_count[letter] = p_count.get(letter, 0) + 1\n",
        "    if len_p > len_s:\n",
        "        return result\n",
        "\n",
        "    # пройдем один раз по первым (len_p - 1) элементам s\n",
        "    for i in range(len_p - 1):\n",
        "        if s[i] in p_count:\n",
        "            p_count[s[i]] -= 1\n",
        "    # дальше запустим скользящее окно, первый \"шаг\" которого был сверху\n",
        "\n",
        "    # (i + len_p)-ый индекс убавляет счетчики в словаре p_count,\n",
        "    # и когда они все станут равны нулю, то значит подряд встретились все буквы из строки p\n",
        "    # i-ый восстанавливает счетчики (\"подтирает\" за  (i + len_p)-ым), чтобы было из чего вычитать\n",
        "    for i in range(-1, len_s - len_p):\n",
        "        if s[i + len_p] in p_count:\n",
        "            p_count[s[i + len_p]] -= 1\n",
        "        if i >= 0 and s[i] in p_count:\n",
        "            p_count[s[i]] += 1\n",
        "    # если в словаре все нули, то добавляем индекс i+1 в result\n",
        "        if not any(p_count.values()):\n",
        "            result.append(i + 1)\n",
        "    return result\n",
        "\n",
        "\n",
        ""
      ],
      "metadata": {
        "id": "OBqIY5KAEMqa"
      },
      "execution_count": null,
      "outputs": []
    },
    {
      "cell_type": "markdown",
      "source": [
        "# Максимальная подстрока из единиц (заменяем нули)\n",
        "Дан двоичный массив nums и целое число k, верните максимальное количество последовательных единиц в массиве, если можно заменить не более k нулей.\n",
        "\n"
      ],
      "metadata": {
        "id": "gpunU21DYCSq"
      }
    },
    {
      "cell_type": "code",
      "source": [
        "# Представьте, что вы смотрите на два автомобиля, едущих по улице. Один из водителей - детектив, а другой - подозреваемый.\n",
        "# Детектив преследует подозреваемого и идет за ним к его убежищу.\n",
        "# Подозреваемый не останавливается на светофорах (нулях), но детектив останавливается на светофорах.\n",
        "# Это означает, что подозреваемый достигнет места назначения (конец цикла while) быстрее, чем детектив.\n",
        "\n",
        "# Чтобы не спугнуть подозреваемого, детектив может начать движение только после того, как подозреваемый проедет через \"k\" светофоров/нулей.\n",
        "# И вот, по мере выполнения цикла while в решении, \"разрыв\" между двумя машинами/указателями становится все больше и больше...\n",
        "# При нормальных обстоятельствах в этом \"зазоре\" между двумя автомобилями будет \"k\" нулей, а также несколько единиц.\n",
        "\n",
        "def longestOnes(nums: list[int], k: int) -> int:\n",
        "    l=r=0\n",
        "    for r in range(len(nums)):\n",
        "        if nums[r] == 0:\n",
        "            k-=1\n",
        "        if k<0:\n",
        "            if nums[l] == 0:\n",
        "                k+=1\n",
        "            l+=1\n",
        "    return r-l+1"
      ],
      "metadata": {
        "id": "OrBr18FNVVe6"
      },
      "execution_count": null,
      "outputs": []
    },
    {
      "cell_type": "markdown",
      "source": [
        "# Число одинаковых символов подряд\n",
        "Мощность строки - это максимальная длина непустой подстроки, содержащей только один уникальный символ.\n",
        "\n",
        "Если задана строка s, верните мощность s."
      ],
      "metadata": {
        "id": "iU5PAiLUCW4_"
      }
    },
    {
      "cell_type": "code",
      "source": [
        "# aaabbbbccc -> bbbb (4)\n",
        "def maxPower(s: str) -> int:\n",
        "    if len(s) == 0:\n",
        "        return 0\n",
        "    max_len = 1\n",
        "    curr_len = 1\n",
        "    prev = s[0]\n",
        "    for i in range(1, len(s)):\n",
        "        if s[i] == prev:\n",
        "            curr_len += 1\n",
        "            max_len = max(curr_len, max_len)\n",
        "        else:\n",
        "            curr_len = 1\n",
        "\n",
        "        prev = s[i]\n",
        "\n",
        "    return max_len"
      ],
      "metadata": {
        "id": "3f8ctABOVVbk"
      },
      "execution_count": null,
      "outputs": []
    },
    {
      "cell_type": "markdown",
      "source": [
        "# Сдвинуть нули в конец массива\n",
        "Дан целочисленный массив nums, переместите все 0 в его конец, сохранив относительный порядок ненулевых элементов.\n",
        "\n",
        "Обратите внимание, что вы должны сделать это на месте, не создавая копию массива."
      ],
      "metadata": {
        "id": "l7ejHiEsE5h-"
      }
    },
    {
      "cell_type": "code",
      "source": [
        "def moveZeroes(nums: list[int]) -> None:\n",
        "    \"\"\"\n",
        "    Do not return anything, modify nums in-place instead.\n",
        "    \"\"\"\n",
        "    i = 0\n",
        "    for k in range(1, len(nums)):\n",
        "        if nums[i] == 0 and nums[k] != 0:\n",
        "            nums[i] = nums[k]\n",
        "            nums[k] = 0\n",
        "            i += 1\n",
        "        elif nums[i] != 0:\n",
        "            i += 1\n"
      ],
      "metadata": {
        "id": "w--HfslsExe6"
      },
      "execution_count": null,
      "outputs": []
    },
    {
      "cell_type": "markdown",
      "source": [
        "# Самый длинный подмассив из единиц после удаления одного элемента\n",
        "Дан бинарный массив nums, удалите из него один элемент.\n",
        "\n",
        "Верните размер самого длинного непустого подмассива, содержащего только 1, в полученном массиве. Верните 0, если такого подмассива не существует."
      ],
      "metadata": {
        "id": "PtUl3hqUIg59"
      }
    },
    {
      "cell_type": "code",
      "source": [
        "def longestSubarray(nums: list[int]) -> int:\n",
        "    prev = 0\n",
        "    curr = 0\n",
        "    max_len = 0\n",
        "    for i in range(len(nums)):\n",
        "        if nums[i] == 1:\n",
        "            curr += 1\n",
        "            max_len = max(max_len, curr + prev)\n",
        "        else:\n",
        "            prev = curr\n",
        "            curr = 0\n",
        "    if curr == len(nums):\n",
        "        return curr - 1\n",
        "    return max_len"
      ],
      "metadata": {
        "id": "wfl83uTlIgmG"
      },
      "execution_count": null,
      "outputs": []
    },
    {
      "cell_type": "markdown",
      "source": [
        "# Слияние двух отсортированных односвязных списков\n",
        "Вам даны головы двух отсортированных связанных списков list1 и list2.\n",
        "\n",
        "Объедините эти два списка в один отсортированный список. Список должен быть составлен путем сращивания узлов первых двух списков.\n",
        "\n",
        "Верните голову объединенного связанного списка."
      ],
      "metadata": {
        "id": "WOuOi2TGLRHb"
      }
    },
    {
      "cell_type": "code",
      "source": [
        "# Definition for singly-linked list.\n",
        "class ListNode:\n",
        "    def __init__(self, val=0, next=None):\n",
        "        self.val = val\n",
        "        self.next = next\n",
        "\n",
        "def mergeTwoLists(list1, list2):\n",
        "    cur = head_0 = ListNode() # head_0 - фиктивная вершина, с которой начинаем строить список\n",
        "    while list1 and list2:\n",
        "        if list1.val < list2.val:\n",
        "            cur.next = list1\n",
        "            list1, cur = list1.next, list1\n",
        "        else:\n",
        "            cur.next = list2\n",
        "            list2, cur = list2.next, list2\n",
        "\n",
        "    if list1 or list2:\n",
        "        cur.next = list1 if list1 else list2\n",
        "\n",
        "    return head_0.next"
      ],
      "metadata": {
        "id": "Q4dmEzcuExWm"
      },
      "execution_count": null,
      "outputs": []
    },
    {
      "cell_type": "markdown",
      "source": [
        "# Найти пропущенное значение из [0, n]\n",
        "Задан массив nums, содержащий n различных чисел в диапазоне [0, n], верните единственное число в этом диапазоне, отсутствующее в массиве.\n",
        "\n"
      ],
      "metadata": {
        "id": "rEwyBJcvQzFP"
      }
    },
    {
      "cell_type": "code",
      "source": [
        "def missingNumber(nums: list[int]) -> int:\n",
        "    n = len(nums)\n",
        "    nums_sum = sum(nums)\n",
        "    return int((n + 1)*(n)/2 - nums_sum)"
      ],
      "metadata": {
        "id": "rDgxZdiXQyli"
      },
      "execution_count": null,
      "outputs": []
    },
    {
      "cell_type": "markdown",
      "source": [
        "# Итератор вложенных списков\n",
        "Вам дан вложенный список целых чисел nestedList. Каждый элемент является либо целым числом, либо списком, элементы которого также могут быть целыми числами или другими списками. Реализуйте итератор для его сглаживания.\n",
        "\n",
        "Реализуйте класс NestedIterator:\n",
        "\n",
        "NestedIterator(List<NestedInteger> nestedList) Инициализирует итератор вложенным списком nestedList.\n",
        "int next() Возвращает следующее целое число во вложенном списке.\n",
        "boolean hasNext() Возвращает true, если во вложенном списке еще есть несколько целых чисел, и false в противном случае."
      ],
      "metadata": {
        "id": "vQKW8uheSlCR"
      }
    },
    {
      "cell_type": "code",
      "source": [
        "class NestedInteger:\n",
        "   def isInteger(self) -> bool:\n",
        "       \"\"\"\n",
        "       @return True if this NestedInteger holds a single integer, rather than a nested list.\n",
        "       \"\"\"\n",
        "\n",
        "   def getInteger(self) -> int:\n",
        "       \"\"\"\n",
        "       @return the single integer that this NestedInteger holds, if it holds a single integer\n",
        "       Return None if this NestedInteger holds a nested list\n",
        "       \"\"\"\n",
        "\n",
        "   def getList(self) -> [NestedInteger]:\n",
        "       \"\"\"\n",
        "       @return the nested list that this NestedInteger holds, if it holds a nested list\n",
        "       Return None if this NestedInteger holds a single integer\n",
        "       \"\"\"\n",
        "\n",
        "\n",
        "class NestedIterator:\n",
        "    def __init__(self, nestedList: [NestedInteger]):\n",
        "        self.tempList = []\n",
        "        self.index = 0\n",
        "        self.flatten_list(nestedList)\n",
        "\n",
        "    def next(self) -> int:\n",
        "        result = self.tempList[self.index]\n",
        "        self.index += 1\n",
        "        return result\n",
        "\n",
        "    def hasNext(self) -> bool:\n",
        "        return self.index < len(self.tempList)\n",
        "\n",
        "    def flatten_list(self, nestedList):\n",
        "        for ni in nestedList:\n",
        "            if ni.isInteger():\n",
        "                self.tempList.append(ni.getInteger())\n",
        "            else:\n",
        "                self.flatten_list(ni.getList())"
      ],
      "metadata": {
        "id": "xioHl-iwExGa"
      },
      "execution_count": null,
      "outputs": []
    },
    {
      "cell_type": "markdown",
      "source": [
        "# Two Sum\n",
        "Дан массив целых чисел nums и целое число target, верните индексы этих двух чисел так, чтобы их сумма равнялась target.\n",
        "\n",
        "Вы можете предположить, что каждый вход будет иметь ровно одно решение, и не можете использовать один и тот же элемент дважды.\n",
        "\n",
        "Вы можете возвращать ответы в любом порядке."
      ],
      "metadata": {
        "id": "39NCdQs7CLp_"
      }
    },
    {
      "cell_type": "code",
      "source": [
        "def twoSum(nums: list[int], target: int) -> list[int]:\n",
        "    dict_of_numbers = {}\n",
        "    for i in range(len(nums)):\n",
        "        if target - nums[i] in dict_of_numbers:\n",
        "            return [i, dict_of_numbers[target - nums[i]]]\n",
        "        else:\n",
        "            dict_of_numbers[nums[i]] = i"
      ],
      "metadata": {
        "id": "44PIzMBNCUvM"
      },
      "execution_count": null,
      "outputs": []
    },
    {
      "cell_type": "markdown",
      "source": [
        "# Two Sum II - входной массив отсортирован\n",
        "В массиве целых чисел, который уже отсортирован в неубывающем порядке, найдите два числа, которые в сумме дают определенное целевое число. Пусть эти два числа будут numbers[index1] и numbers[index2], где 1 <= index1 < index2 <= numbers.length.\n",
        "\n",
        "Верните индексы двух чисел, index1 и index2, в виде целочисленного массива [index1, index2] длины 2.\n",
        "\n",
        "Тесты генерируются таким образом, что существует ровно одно решение. Вы не можете использовать один и тот же элемент дважды.\n",
        "\n",
        "Ваше решение должно использовать только константу памяти.\n",
        "\n",
        "**В этой задаче ответ вывести, как будто массив нумеруется с единицы!**"
      ],
      "metadata": {
        "id": "0YWgx7vWUGO1"
      }
    },
    {
      "cell_type": "code",
      "source": [
        "def twoSum(numbers: list[int], target: int) -> list[int]:\n",
        "    l = 0\n",
        "    r = len(numbers) - 1\n",
        "    while l < r:\n",
        "        sum_lr = numbers[l] + numbers[r]\n",
        "        if sum_lr > target:\n",
        "            r -= 1\n",
        "        elif sum_lr < target:\n",
        "            l += 1\n",
        "        else:\n",
        "            return [l + 1, r + 1]"
      ],
      "metadata": {
        "id": "hm5q06GlExDD"
      },
      "execution_count": null,
      "outputs": []
    },
    {
      "cell_type": "markdown",
      "source": [
        "# Реализация очереди с помощью стеков\n",
        "Реализуйте очередь типа \"первый пришел - первый ушел\" (FIFO), используя только два стека. Реализованная очередь должна поддерживать все функции обычной очереди (push, peek, pop и empty).\n",
        "\n",
        "Реализуйте класс MyQueue:\n",
        "\n",
        "void push(int x) Перемещает элемент x в конец очереди.\n",
        "int pop() Удаляет элемент из передней части очереди и возвращает его.\n",
        "int peek() Возвращает элемент, находящийся в начале очереди.\n",
        "boolean empty() Возвращает true, если очередь пуста, false - в противном случае.\n",
        "Примечания:"
      ],
      "metadata": {
        "id": "Tpb1pJqkapuR"
      }
    },
    {
      "cell_type": "code",
      "source": [
        "class MyQueue:\n",
        "    def __init__(self):\n",
        "        self.s1 = []\n",
        "        self.s2 = []\n",
        "\n",
        "    def push(self, x: int) -> None:\n",
        "        while self.s1:\n",
        "            self.s2.append(self.s1.pop())\n",
        "        self.s1.append(x)\n",
        "        while self.s2:\n",
        "            self.s1.append(self.s2.pop())\n",
        "\n",
        "    def pop(self) -> int:\n",
        "        return self.s1.pop()\n",
        "\n",
        "    def peek(self) -> int:\n",
        "        return self.s1[-1]\n",
        "\n",
        "    def empty(self) -> bool:\n",
        "        return not self.s1\n"
      ],
      "metadata": {
        "id": "ohbnx_HFapgH"
      },
      "execution_count": null,
      "outputs": []
    },
    {
      "cell_type": "markdown",
      "source": [
        "# Первый уникальный символ в строке\n",
        "Дана строка s, найдите в ней первый неповторяющийся символ и верните его индекс. Если он не существует, верните -1."
      ],
      "metadata": {
        "id": "fKiI8JH-cwZO"
      }
    },
    {
      "cell_type": "code",
      "source": [
        "def firstUniqChar(s: str) -> int:\n",
        "    count = {}\n",
        "    for l in s:\n",
        "        count[l] = count.get(l, 0) + 1\n",
        "    for i in range(len(s)):\n",
        "        if count[s[i]] == 1:\n",
        "            return i\n",
        "    return -1"
      ],
      "metadata": {
        "id": "s-Ge-rNrapc1"
      },
      "execution_count": null,
      "outputs": []
    },
    {
      "cell_type": "markdown",
      "source": [
        "# Пересечение двух массивов\n",
        "Даны два целочисленных массива nums1 и nums2, верните массив их пересечения. Каждый элемент в результате должен встречаться столько раз, сколько раз он отображается в обоих массивах, и вы можете вернуть результат в любом порядке."
      ],
      "metadata": {
        "id": "dHs4e0p6egfT"
      }
    },
    {
      "cell_type": "code",
      "source": [
        "def intersect(nums1: list[int], nums2: list[int]) -> list[int]:\n",
        "    count1 = {}\n",
        "    result = []\n",
        "    for el in nums1:\n",
        "        count1[el] = count1.get(el, 0) + 1\n",
        "    for el in nums2:\n",
        "        if el in count1 and count1[el] > 0:\n",
        "            result.append(el)\n",
        "            count1[el] -= 1\n",
        "    return result"
      ],
      "metadata": {
        "id": "jfENBNKWapaE"
      },
      "execution_count": null,
      "outputs": []
    },
    {
      "cell_type": "markdown",
      "source": [
        "# Проверка бинарного дерева поиска\n",
        "Дан корень двоичного дерева, определите, является ли оно допустимым двоичным деревом поиска (BST).\n",
        "\n",
        "Допустимое BST определяется следующим образом:\n",
        "\n",
        "Левое поддерево узла содержит только узлы с ключами, меньшими, чем ключ узла.\n",
        "Правое поддерево узла содержит только узлы с ключами, большими, чем ключ узла.\n",
        "И левое, и правое поддерево также должны быть деревьями двоичного поиска."
      ],
      "metadata": {
        "id": "i-LC3cXBzY_B"
      }
    },
    {
      "cell_type": "code",
      "source": [
        "def isValidBST(root):\n",
        "    def check_bst(root, min_val=float('-inf'), max_val=float('inf')):\n",
        "        if root == None:\n",
        "            return True\n",
        "\n",
        "        # проверяем, лежит ли значение в узле между min_val и max_val\n",
        "        if not (min_val < root.val < max_val):\n",
        "            return False\n",
        "\n",
        "        # запускаем рекурсию на левого и правого ребенка\n",
        "        return (check_bst(root.left, min_val, root.val) and\n",
        "                check_bst(root.right, root.val, max_val))\n",
        "\n",
        "    return check_bst(root)"
      ],
      "metadata": {
        "id": "fdo3KJWbzZfx"
      },
      "execution_count": null,
      "outputs": []
    },
    {
      "cell_type": "markdown",
      "source": [
        "# Наиболее низкий общий предок бинарного дерева\n",
        "Найдите в бинарном дереве наименьшего общего предка двух заданных узлов дерева.\n",
        "\n",
        "Согласно определению LCA в Википедии: \"Наименьший общий предок определяется между двумя узлами p и q как самый низкий узел в T, который имеет потомков и p, и q (где мы разрешаем узлу быть потомком самого себя)\"."
      ],
      "metadata": {
        "id": "NiEeQxJPhZMy"
      }
    },
    {
      "cell_type": "code",
      "source": [
        "# Definition for a binary tree node.\n",
        "class TreeNode:\n",
        "    def __init__(self, x):\n",
        "        self.val = x\n",
        "        self.left = None\n",
        "        self.right = None\n",
        "\n",
        "def lowestCommonAncestor(root: 'TreeNode', p: 'TreeNode', q: 'TreeNode') -> 'TreeNode':\n",
        "    if root in (None, p, q):\n",
        "        return root\n",
        "\n",
        "    left = lowestCommonAncestor(root.left, p, q)\n",
        "    right = lowestCommonAncestor(root.right, p, q)\n",
        "\n",
        "    if left and right:\n",
        "        return root\n",
        "    else:\n",
        "        return left or right\n"
      ],
      "metadata": {
        "id": "LSp5j29OhYmY"
      },
      "execution_count": null,
      "outputs": []
    },
    {
      "cell_type": "markdown",
      "source": [
        "# Проверить дерево на симметричность\n",
        "Пусть дан корень бинарного дерева, проверьте, является ли он зеркальным отражением самого себя (т.е. симметричным относительно центра)."
      ],
      "metadata": {
        "id": "Oocbzicx8Y5i"
      }
    },
    {
      "cell_type": "code",
      "source": [
        "# class TreeNode(object):\n",
        "#     def __init__(self, val=0, left=None, right=None):\n",
        "#         self.val = val\n",
        "#         self.left = left\n",
        "#         self.right = right\n",
        "\n",
        "def isMirror(left, right):\n",
        "    if not left and not right:\n",
        "        return True\n",
        "    if not left or not right:\n",
        "        return False\n",
        "    return left.val == right.val and isMirror(left.left, right.right) and isMirror(left.right, right.left)\n",
        "\n",
        "def isSymmetric(root):\n",
        "    if not root:\n",
        "        return True\n",
        "    return isMirror(root.left, root.right)\n"
      ],
      "metadata": {
        "id": "PckBGARX8YZN"
      },
      "execution_count": null,
      "outputs": []
    },
    {
      "cell_type": "markdown",
      "source": [
        "# Число островов (поиск в глубину)\n",
        "Дана двумерная двоичная матрица m x n, представляющую собой карту из \"1\" (земля) и \"0\" (вода), верните количество островов.\n",
        "\n",
        "Остров окружен водой и образуется путем соединения соседних земель по горизонтали или вертикали. Можно предположить, что все четыре края сетки окружены водой."
      ],
      "metadata": {
        "id": "Mcq4Ki-Em6To"
      }
    },
    {
      "cell_type": "code",
      "source": [
        "def dfs(grid, i, j):\n",
        "    # print(grid)\n",
        "    if i < 0 or j < 0 or i >= len(grid) or j >= len(grid[0]) or grid[i][j] != '1':\n",
        "        return\n",
        "\n",
        "    grid[i][j] = '#'\n",
        "    dfs(grid, i+1, j)\n",
        "    dfs(grid, i-1, j)\n",
        "    dfs(grid, i, j+1)\n",
        "    dfs(grid, i, j-1)\n",
        "\n",
        "\n",
        "def numIslands(grid: list[list[str]]) -> int:\n",
        "    if not grid:\n",
        "        return 0\n",
        "\n",
        "    count = 0\n",
        "    for i in range(len(grid)):\n",
        "        for j in range(len(grid[0])):\n",
        "            if grid[i][j] == '1':\n",
        "                dfs(grid, i, j)\n",
        "                count += 1\n",
        "    return count"
      ],
      "metadata": {
        "id": "dJNc3-_nhYjn"
      },
      "execution_count": null,
      "outputs": []
    },
    {
      "cell_type": "markdown",
      "source": [
        "# Разложить число в сумму квадратов\n",
        "Если задано целое число n, верните наименьшее количество полных квадратов, сумма которых равна n."
      ],
      "metadata": {
        "id": "R7x6EO3KtGEx"
      }
    },
    {
      "cell_type": "code",
      "source": [
        "def numSquares(n: int) -> int:\n",
        "    dp = [float('inf')] * (n + 1)\n",
        "    dp[0] = 0\n",
        "    for i in range(1, n + 1):\n",
        "        min_val = float('inf')\n",
        "        j = 1\n",
        "        while j * j <= i: # перебираем все j^2 <= i\n",
        "            min_val = min(min_val, dp[i - j * j] + 1) # смотрим, какое наименьшее число квадратов необходимо для разложения числа (i - j^2)\n",
        "            j += 1\n",
        "        dp[i] = min_val\n",
        "    return dp[n]"
      ],
      "metadata": {
        "id": "vZ2z3kXutFvi"
      },
      "execution_count": null,
      "outputs": []
    },
    {
      "cell_type": "markdown",
      "source": [
        "# Сложить числа, представленные строками\n",
        "Даны два неотрицательных целых числа, num1 и num2, представленные в виде строки, верните сумму num1 и num2 в виде строки.\n",
        "\n",
        "Вы должны решить эту задачу без использования встроенной библиотеки для работы с большими целыми числами (например, BigInteger). Вы также не должны преобразовывать входные данные в целые числа напрямую."
      ],
      "metadata": {
        "id": "Ey5-bF3X1eb3"
      }
    },
    {
      "cell_type": "code",
      "source": [
        "def addStrings(num1: str, num2: str) -> str:\n",
        "    p1 = len(num1) - 1\n",
        "    p2 = len(num2) - 1\n",
        "    keep_in_mind = 0\n",
        "    result = []\n",
        "    while p1 >= 0 or p2 >= 0 or keep_in_mind > 0:\n",
        "        if p1 >= 0:\n",
        "            n1 = int(num1[p1])\n",
        "        else:\n",
        "            n1 = 0\n",
        "        if p2 >= 0:\n",
        "            n2 = int(num2[p2])\n",
        "        else:\n",
        "            n2 = 0\n",
        "        # print(n1, n2, keep_in_mind)\n",
        "        result.append((n1 + n2 + keep_in_mind) % 10)\n",
        "        keep_in_mind = (n1 + n2 + keep_in_mind) // 10\n",
        "        p1 -= 1\n",
        "        p2 -= 1\n",
        "    result_str = ''\n",
        "\n",
        "    for i in range(len(result) - 1, -1, -1):\n",
        "        result_str += str(result[i])\n",
        "    return result_str\n"
      ],
      "metadata": {
        "id": "51ob7XaptFcz"
      },
      "execution_count": null,
      "outputs": []
    },
    {
      "cell_type": "markdown",
      "source": [
        "# Сложить два числа в виде односвязных списков\n",
        "Вам даны два непустых связанных списка, представляющих два неотрицательных целых числа. Цифры хранятся в обратном порядке, и каждый из их узлов содержит одну цифру. Сложите эти два числа и верните сумму в виде связанного списка.\n",
        "\n",
        "Можно предположить, что эти два числа не содержат никаких ведущих нулей, кроме самого числа 0."
      ],
      "metadata": {
        "id": "GWXtgux4YUHw"
      }
    },
    {
      "cell_type": "code",
      "source": [
        "def addTwoNumbers(l1, l2):\n",
        "    dummyHead = ListNode(0)\n",
        "    curr = dummyHead\n",
        "    keep_in_mind = 0\n",
        "\n",
        "    while l1 or l2 or keep_in_mind != 0:\n",
        "        digit1 = l1.val if l1 else 0\n",
        "        digit2 = l2.val if l2 else 0\n",
        "\n",
        "        sum = digit1 + digit2 + keep_in_mind\n",
        "        digit = sum % 10\n",
        "        keep_in_mind = sum // 10\n",
        "\n",
        "        newNode = ListNode(digit)\n",
        "        curr.next = newNode\n",
        "        curr = curr.next\n",
        "\n",
        "        l1 = l1.next if l1 else None\n",
        "        l2 = l2.next if l2 else None\n",
        "\n",
        "\n",
        "    return dummyHead.next"
      ],
      "metadata": {
        "id": "61g2AgDAYdiF"
      },
      "execution_count": null,
      "outputs": []
    },
    {
      "cell_type": "markdown",
      "source": [
        "# Insert Delete GetRandom O(1)\n",
        "Реализуйте класс RandomizedSet:\n",
        "\n",
        "RandomizedSet() Инициализирует объект RandomizedSet.\n",
        "bool insert(int val) Вставляет элемент val в набор, если он не присутствует. Возвращает true, если элемент не присутствовал, false - в противном случае.\n",
        "bool remove(int val) Удаляет элемент val из набора, если он присутствует. Возвращает true, если элемент присутствовал, false - в противном случае.\n",
        "int getRandom() Возвращает случайный элемент из текущего набора элементов (гарантируется, что на момент вызова этого метода хотя бы один элемент существует). Каждый элемент должен иметь одинаковую вероятность быть возвращенным.\n",
        "Вы должны реализовать функции класса так, чтобы каждая из них работала со средней временной сложностью O(1)."
      ],
      "metadata": {
        "id": "u32lmQF07wCt"
      }
    },
    {
      "cell_type": "code",
      "source": [
        "import random\n",
        "\n",
        "class RandomizedSet:\n",
        "\n",
        "    def __init__(self):\n",
        "        self.lst = []\n",
        "        self.idx_map = {}\n",
        "\n",
        "    def search(self, val):\n",
        "        return val in self.idx_map\n",
        "\n",
        "    def insert(self, val):\n",
        "        if self.search(val):\n",
        "            return False\n",
        "\n",
        "        self.lst.append(val)\n",
        "        self.idx_map[val] = len(self.lst) - 1\n",
        "        return True\n",
        "\n",
        "    def remove(self, val):\n",
        "        if not self.search(val):\n",
        "            return False\n",
        "\n",
        "        idx = self.idx_map[val]\n",
        "        self.lst[idx] = self.lst[-1]\n",
        "        self.idx_map[self.lst[-1]] = idx\n",
        "        self.lst.pop()\n",
        "        del self.idx_map[val]\n",
        "        return True\n",
        "\n",
        "    def getRandom(self):\n",
        "        return random.choice(self.lst)"
      ],
      "metadata": {
        "id": "oJLK9-_ctFXs"
      },
      "execution_count": null,
      "outputs": []
    },
    {
      "cell_type": "markdown",
      "source": [
        "# Является ли s подпоследовательностью t?\n",
        "Если даны две строки s и t, верните true, если s является подпоследовательностью t, или false в противном случае.\n",
        "\n",
        "Подпоследовательность строки - это новая строка, которая образуется из исходной строки путем удаления некоторых (можно ни одного) символов без нарушения взаимного расположения оставшихся символов. (например, \"ace\" является подпоследовательностью \"abcde\", а \"aec\" - нет)."
      ],
      "metadata": {
        "id": "Tl-v9Hiv_ZlL"
      }
    },
    {
      "cell_type": "code",
      "source": [
        "def isSubsequence(s: str, t: str) -> bool:\n",
        "    if len(s) == 0:\n",
        "        return True\n",
        "    p_s = 0\n",
        "    p_t = 0\n",
        "    for p_t in range(len(t)):\n",
        "        if s[p_s] == t[p_t]:\n",
        "            p_s += 1\n",
        "        if p_s == len(s):\n",
        "            return True\n",
        "    return False"
      ],
      "metadata": {
        "id": "rUSPQekJ8YW8"
      },
      "execution_count": null,
      "outputs": []
    },
    {
      "cell_type": "markdown",
      "source": [
        "# Найти минимум в повернутом отсортированном массиве\n",
        "Дан отсортированный повернутый массив nums уникальных элементов, верните минимальный элемент этого массива.\n",
        "\n",
        "Вы должны написать алгоритм, который выполняется за время O(log n)."
      ],
      "metadata": {
        "id": "29rCpwptEM-T"
      }
    },
    {
      "cell_type": "code",
      "source": [
        "def findMin(nums: list[int]) -> int:\n",
        "    l = 0\n",
        "    r = len(nums) - 1\n",
        "    while l < r: # если написать <=, то будет бесконечный цикл\n",
        "        mid = l + (r - l) // 2\n",
        "        if nums[mid] > nums[r]: # то сдвиг где-то правее середины\n",
        "            l = mid + 1\n",
        "            r = r\n",
        "        elif nums[mid] < nums[r]:\n",
        "            l = l\n",
        "            r = mid\n",
        "    return nums[l]\n"
      ],
      "metadata": {
        "id": "TE6pqk3aEMve"
      },
      "execution_count": null,
      "outputs": []
    },
    {
      "cell_type": "markdown",
      "source": [
        "# Найти число в повернутом отсортированном массиве\n",
        "Даны массив nums после возможного поворота и целое число target, верните индекс target, если он есть в nums, или -1, если его нет в nums.\n",
        "\n",
        "Вы должны написать алгоритм со сложностью O(log n) во времени выполнения."
      ],
      "metadata": {
        "id": "oHQbICiBeL8e"
      }
    },
    {
      "cell_type": "code",
      "source": [
        "def search(nums: list[int], target: int) -> int:\n",
        "    l = 0\n",
        "    r = len(nums) - 1\n",
        "    while l <= r:\n",
        "        mid = l + (r - l) // 2\n",
        "        if nums[mid] == target:\n",
        "            return mid\n",
        "\n",
        "        if nums[l] <= nums[mid]: # значит левая сторона отсортирована\n",
        "            if nums[l] <= target < nums[mid]:\n",
        "                r = mid - 1\n",
        "            else:\n",
        "                l = mid + 1\n",
        "        else: # значит правая сторона отсортирована\n",
        "            if nums[mid] < target <= nums[r]:\n",
        "                l = mid + 1\n",
        "            else:\n",
        "                r = mid - 1\n",
        "\n",
        "    return -1\n"
      ],
      "metadata": {
        "id": "ilEa38k1eKZg"
      },
      "execution_count": null,
      "outputs": []
    },
    {
      "cell_type": "markdown",
      "source": [
        "# Максимальное расстояние до ближайшего человека\n",
        "Вам дан массив, представляющий ряд сидений, где seats[i] = 1 означает, что на i-ом сиденье сидит человек, а seats[i] = 0 означает, что i-ое сиденье пусто (индексируется 0).\n",
        "\n",
        "Есть по крайней мере одно свободное место и по крайней мере один сидящий человек.\n",
        "\n",
        "Алекс хочет сесть на такое место, чтобы расстояние между ним и ближайшим к нему человеком было максимальным.\n",
        "\n",
        "Верните максимальное расстояние до ближайшего человека.\n",
        "\n"
      ],
      "metadata": {
        "id": "VMotdNVVN3sy"
      }
    },
    {
      "cell_type": "code",
      "source": [
        "def maxDistToClosest(seats: list[int]) -> int:\n",
        "    left, res, right = -1, 0, 0\n",
        "    while right < len(seats):\n",
        "        # 1 есть только справа\n",
        "        if left == -1 and seats[right] == 1:\n",
        "            res = max(res, right)\n",
        "            left = right\n",
        "            right += 1\n",
        "            continue\n",
        "        # 1 есть только слева\n",
        "        if right == len(seats) - 1 and seats[right] == 0:\n",
        "            res = max(res, right - left)\n",
        "            right += 1\n",
        "            continue\n",
        "        # 1 есть и слева, и справа, сесть посередине\n",
        "        if seats[right] == 1:\n",
        "            res = max(res, (right - left) // 2)\n",
        "            left = right\n",
        "        right += 1\n",
        "    return res"
      ],
      "metadata": {
        "id": "A7svnkdiEMs9"
      },
      "execution_count": null,
      "outputs": []
    },
    {
      "cell_type": "markdown",
      "source": [
        "# Реализуйте Rand10() с помощью Rand7()\n",
        "Даны API rand7(), генерирующие однородное случайное целое число в диапазоне [1, 7], напишите функцию rand10(), генерирующую однородное случайное целое число в диапазоне [1, 10]. Вы можете вызывать только API rand7(), и не должны вызывать никаких других API. Пожалуйста, не используйте встроенный в язык API случайных чисел.\n",
        "\n",
        "Каждый тестовый пример будет иметь один внутренний аргумент n - количество раз, которое будет вызвана реализованная вами функция rand10() во время тестирования. Обратите внимание, что это не аргумент, передаваемый функции rand10()."
      ],
      "metadata": {
        "id": "H686DEIjWhh3"
      }
    },
    {
      "cell_type": "code",
      "source": [
        "# The rand7() API is already defined for you.\n",
        "# def rand7():\n",
        "# return a random integer in the range 1 to 7\n",
        "\n",
        "def rand10(self):\n",
        "    # сначала определяем, в какую из частей [1, 5] или [6, 10] будем генерить требуемое число\n",
        "    f = rand7()\n",
        "    s = rand7()\n",
        "    while s == f:\n",
        "        f = rand7()\n",
        "        s = rand7()\n",
        "\n",
        "    # генерим число от 1 до 5\n",
        "    res = rand7()\n",
        "    while res > 5:\n",
        "        res = rand7()\n",
        "\n",
        "    if f > s: # если f > s, то в первую половину\n",
        "        return res\n",
        "    elif s > f: # если s > f, то во вторую\n",
        "        return 5 + res"
      ],
      "metadata": {
        "id": "AtLRbG6UWg8a"
      },
      "execution_count": null,
      "outputs": []
    },
    {
      "cell_type": "markdown",
      "source": [
        "# Объединить числа в отрезки\n",
        "Вам даны отсортированные уникальные целые массивы nums.\n",
        "\n",
        "Верните наименьший отсортированный список диапазонов, который точно покрывает все числа в массиве. То есть каждый элемент nums покрывается ровно одним из диапазонов, и не существует целого числа x такого, что x находится в одном из диапазонов, но не в nums.\n",
        "\n",
        "Каждый диапазон [a,b] в списке должен быть выведен в виде:\n",
        "\n",
        "\"a->b\", если a != b\n",
        "\"a\", если a == b"
      ],
      "metadata": {
        "id": "IMLxJy6gI7gU"
      }
    },
    {
      "cell_type": "code",
      "source": [
        "def summaryRanges(nums: list[int]) -> list[str]:\n",
        "    if not nums:\n",
        "        return []\n",
        "\n",
        "    ranges = []\n",
        "    start = nums[0]\n",
        "\n",
        "    for i in range(1, len(nums)):\n",
        "        if nums[i] != nums[i-1] + 1:\n",
        "            if start == nums[i-1]:\n",
        "                ranges.append(str(start))\n",
        "            else:\n",
        "                ranges.append(str(start) + \"->\" + str(nums[i-1]))\n",
        "            start = nums[i]\n",
        "\n",
        "    # последний отрезок\n",
        "    if start == nums[-1]:\n",
        "        ranges.append(str(start))\n",
        "    else:\n",
        "        ranges.append(str(start) + \"->\" + str(nums[-1]))\n",
        "\n",
        "    return ranges"
      ],
      "metadata": {
        "id": "padg22fsWg50"
      },
      "execution_count": 3,
      "outputs": []
    },
    {
      "cell_type": "markdown",
      "source": [
        "# Объединить пересекающиеся отрезки\n",
        "Даны массивы интервалов, где intervals[i] = [starti, endi], объедините все пересекающиеся интервалы и верните массив непересекающихся интервалов, которые покрывают все интервалы на входе."
      ],
      "metadata": {
        "id": "glJTSKN0NMVm"
      }
    },
    {
      "cell_type": "code",
      "source": [
        "def merge(intervals):\n",
        "    intervals.sort(key = lambda x: x[0])\n",
        "    merged =[]\n",
        "    for interval in intervals:\n",
        "        # если список объединенных интервалов пуст\n",
        "        # или если текущий интервал не пересекается с предыдущим,\n",
        "        # просто добавим его\n",
        "        if not merged or merged[-1][-1] < interval[0]:\n",
        "            merged.append(interval)\n",
        "        # в противном случае происходит перекрытие,\n",
        "        # поэтому мы объединяем текущий и предыдущий интервалы.\n",
        "        else:\n",
        "            merged[-1][-1] = max(merged[-1][-1], interval[-1])\n",
        "    return merged"
      ],
      "metadata": {
        "id": "W1QRKbX4Wg0m"
      },
      "execution_count": null,
      "outputs": []
    },
    {
      "cell_type": "markdown",
      "source": [
        "# Подмассивы с заданной суммой\n",
        "Даны массив целых чисел nums и целое число k, верните общее количество подмассивов, сумма которых равна k.\n",
        "\n",
        "Подмассив - это **непрерывная** непустая последовательность элементов внутри массива."
      ],
      "metadata": {
        "id": "GPq9uq1FRnW0"
      }
    },
    {
      "cell_type": "code",
      "source": [
        "def subarraySum(self, nums: list[int], k: int) -> int:\n",
        "    result = 0\n",
        "    prefix_sum = 0\n",
        "    d = {0 : 1}\n",
        "\n",
        "    for num in nums:\n",
        "        prefix_sum = prefix_sum + num\n",
        "\n",
        "        if prefix_sum - k in d:\n",
        "            result = result + d[prefix_sum - k]\n",
        "\n",
        "        d[prefix_sum] = d.get(prefix_sum, 0) + 1\n",
        "\n",
        "    return result"
      ],
      "metadata": {
        "id": "HG0abEJyRm_A"
      },
      "execution_count": null,
      "outputs": []
    },
    {
      "cell_type": "markdown",
      "source": [
        "# Сумма непрерывного подмассива кратная k\n",
        "Даны целочисленный массив nums и целое число k, верните true, если nums имеет хороший подмассив, или false в противном случае.\n",
        "\n",
        "Хороший подмассив - это такой подмассив, у которого:\n",
        "\n",
        "его длина не меньше двух, и\n",
        "сумма элементов подмассива кратна k.\n",
        "Обратите внимание, что:\n",
        "\n",
        "Подмассив - это непрерывная часть массива.\n",
        "Целое число x кратно k, если существует целое число n такое, что x = n * k. 0 всегда кратно k."
      ],
      "metadata": {
        "id": "pLbCPKrp4Xi1"
      }
    },
    {
      "cell_type": "code",
      "source": [
        "def checkSubarraySum(self, nums: list[int], k: int) -> bool:\n",
        "    remainder_cache = {0: -1}\n",
        "    remainder = 0      # остаток\n",
        "    for i in range(len(nums)):\n",
        "        remainder += nums[i]\n",
        "        remainder %= k\n",
        "        if remainder not in remainder_cache:\n",
        "            remainder_cache[remainder] = i\n",
        "        elif i - remainder_cache[remainder] >=2:\n",
        "            return True\n",
        "    return False"
      ],
      "metadata": {
        "id": "h7Mt4IW8aFIa"
      },
      "execution_count": null,
      "outputs": []
    },
    {
      "cell_type": "markdown",
      "source": [
        "# Evaluate Reverse Polish Notation ???"
      ],
      "metadata": {
        "id": "TfDdBa1sXDau"
      }
    },
    {
      "cell_type": "code",
      "source": [
        "def resolves(self, a, b, Operator):\n",
        "    if Operator == '+':\n",
        "        return a + b\n",
        "    elif Operator == '-':\n",
        "        return a - b\n",
        "    elif Operator == '*':\n",
        "        return a * b\n",
        "    return int(a / b)\n",
        "\n",
        "def evalRPN(self, tokens):\n",
        "    stack = []\n",
        "    for token in tokens:\n",
        "        if len(token) == 1 and ord(token) < 48:\n",
        "            integer2 = stack.pop()\n",
        "            integer1 = stack.pop()\n",
        "            operator = token\n",
        "            resolved_ans = self.resolves(integer1, integer2, operator)\n",
        "            stack.append(resolved_ans)\n",
        "        else:\n",
        "            stack.append(int(token))\n",
        "    return stack.pop()\n"
      ],
      "metadata": {
        "id": "IGh5lcjxXD-d"
      },
      "execution_count": null,
      "outputs": []
    },
    {
      "cell_type": "markdown",
      "source": [
        "# Удалить N-й с конца узел односвязного списка\n",
        "Дана голова связного списка, удалите n-й узел из конца списка и верните его голову."
      ],
      "metadata": {
        "id": "hJvglZFzaFgH"
      }
    },
    {
      "cell_type": "code",
      "source": [
        "def removeNthFromEnd(head, n):\n",
        "    list_len = 0\n",
        "    curr = head\n",
        "    while curr:\n",
        "        curr = curr.next\n",
        "        list_len += 1\n",
        "\n",
        "    dummy = ListNode()\n",
        "    dummy.next = head\n",
        "    prev = dummy\n",
        "    for i in range(list_len - n):\n",
        "        prev = prev.next\n",
        "\n",
        "    prev.next = prev.next.next\n",
        "    return dummy.next"
      ],
      "metadata": {
        "id": "qHM5esx3aFU_"
      },
      "execution_count": null,
      "outputs": []
    },
    {
      "cell_type": "markdown",
      "source": [
        "# Упростить путь до файла"
      ],
      "metadata": {
        "id": "CL_E7oJKkpc5"
      }
    },
    {
      "cell_type": "code",
      "source": [
        "def simplifyPath(path: str) -> str:\n",
        "    l=path.split('/')\n",
        "    m=[]\n",
        "    for i in l:\n",
        "        if i == '..'and len(m) > 0:\n",
        "            m.pop()\n",
        "        elif i != '.' and i != '' and i != '..':\n",
        "            m.append(i)\n",
        "\n",
        "    return  '/'+'/'.join(m)\n",
        ""
      ],
      "metadata": {
        "id": "T_bBOT1taFTL"
      },
      "execution_count": null,
      "outputs": []
    },
    {
      "cell_type": "markdown",
      "source": [
        "# Самая длинная подстрока без повторяющихся символов\n",
        "Дана строка s, найдите длину самой длинной\n",
        "подстроки без повторяющихся символов."
      ],
      "metadata": {
        "id": "ryp0SJTFo0hR"
      }
    },
    {
      "cell_type": "code",
      "source": [
        "def lengthOfLongestSubstring(s: str) -> int:\n",
        "    n = len(s)\n",
        "    maxLength = 0\n",
        "    charSet = set()\n",
        "    left = 0\n",
        "\n",
        "    for right in range(n):\n",
        "        if s[right] not in charSet:\n",
        "            charSet.add(s[right])\n",
        "            maxLength = max(maxLength, right - left + 1)\n",
        "        else:\n",
        "            while s[right] in charSet: # удаляем буквы s[left] из charSet, пока не удалим s[right]\n",
        "                charSet.remove(s[left])\n",
        "                left += 1\n",
        "            charSet.add(s[right])\n",
        "\n",
        "    return maxLength"
      ],
      "metadata": {
        "id": "4aGTx-HfaFRP"
      },
      "execution_count": null,
      "outputs": []
    },
    {
      "cell_type": "markdown",
      "source": [
        "# Самая длинная строка - палиндром\n",
        "Дана строка s, верните самую длинную подстроку - палиндром в s."
      ],
      "metadata": {
        "id": "mnfkPB9prYmo"
      }
    },
    {
      "cell_type": "code",
      "source": [
        "def longestPalindrome(s: str) -> str:\n",
        "    def expandSubstring(answer, left, right):\n",
        "        print(left, right)\n",
        "        while left >= 0 and right <= len(s) - 1:\n",
        "            if s[left] == s[right]:\n",
        "                left -= 1\n",
        "                right += 1\n",
        "            else:\n",
        "                if len(s[left + 1 : right]) > len(answer):\n",
        "                    answer = s[left + 1 : right]\n",
        "                break\n",
        "\n",
        "        if len(s[left+1:right]) > len(answer):\n",
        "            answer = s[left + 1 : right]\n",
        "        return answer\n",
        "\n",
        "    answer = s[0]\n",
        "    for i in range(len(s)):\n",
        "        # ищем палиндромы нечетной длины\n",
        "        answer = expandSubstring(answer, i, i)\n",
        "        # ищем палиндромы четной длины\n",
        "        answer = expandSubstring(answer, i, i + 1)\n",
        "    return answer"
      ],
      "metadata": {
        "id": "nYMeq0VxrXrj"
      },
      "execution_count": 24,
      "outputs": []
    }
  ]
}